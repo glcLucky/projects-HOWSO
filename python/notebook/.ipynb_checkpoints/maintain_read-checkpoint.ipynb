{
 "cells": [
  {
   "cell_type": "code",
   "execution_count": 1,
   "metadata": {},
   "outputs": [
    {
     "name": "stdout",
     "output_type": "stream",
     "text": [
      "Populating the interactive namespace from numpy and matplotlib\n"
     ]
    }
   ],
   "source": [
    "%pylab inline\n",
    "%load_ext autoreload\n",
    "%autoreload 2\n",
    "\n",
    "import os\n",
    "import numpy as np\n",
    "import pandas as pd\n",
    "\n",
    "import devkit.api as dk\n",
    "import finkit.api as fk\n",
    "import DataAPI\n",
    "\n",
    "from DataAPI.config import DB_PATH_LIB"
   ]
  },
  {
   "cell_type": "markdown",
   "metadata": {},
   "source": [
    "---\n",
    "\n",
    "# 数据库架构"
   ]
  },
  {
   "cell_type": "code",
   "execution_count": null,
   "metadata": {
    "collapsed": true
   },
   "outputs": [],
   "source": [
    "for db_name in DB_PATH_LIB:\n",
    "    DataAPI.schema.show_db_info(db_name)"
   ]
  },
  {
   "cell_type": "markdown",
   "metadata": {},
   "source": [
    "# 待读取日期"
   ]
  },
  {
   "cell_type": "code",
   "execution_count": 2,
   "metadata": {
    "collapsed": true
   },
   "outputs": [],
   "source": [
    "start = \"2008-02-01\"\n",
    "end = \"2018-02-11\"\n",
    "trading_days = fk.get_trading_days(start=start, end=end)"
   ]
  },
  {
   "cell_type": "markdown",
   "metadata": {},
   "source": [
    "# 读取index_contents"
   ]
  },
  {
   "cell_type": "markdown",
   "metadata": {},
   "source": [
    "## 读取不同指数股票代码"
   ]
  },
  {
   "cell_type": "code",
   "execution_count": null,
   "metadata": {
    "collapsed": true
   },
   "outputs": [],
   "source": [
    "# A H HSI.HI 000300.SH 000016.SH 000905.SH\n",
    "DataAPI.read.get_index_contents(index_code='A', date='2017-11-23')"
   ]
  },
  {
   "cell_type": "code",
   "execution_count": null,
   "metadata": {
    "collapsed": true
   },
   "outputs": [],
   "source": [
    "a=DataAPI.read.get_index_contents_on_multidays(index_code='A', trading_days=trading_days)"
   ]
  },
  {
   "cell_type": "code",
   "execution_count": null,
   "metadata": {
    "collapsed": true
   },
   "outputs": [],
   "source": [
    "a['2011-08-15']"
   ]
  },
  {
   "cell_type": "markdown",
   "metadata": {},
   "source": [
    "## 读取指数权重 "
   ]
  },
  {
   "cell_type": "code",
   "execution_count": null,
   "metadata": {
    "collapsed": true
   },
   "outputs": [],
   "source": [
    "# 目前仅支持  000300.SH 000016.SH 000905.SH\n",
    "DataAPI.read.get_index_weights(index_code='000300.SH', date='2017-01-25')"
   ]
  },
  {
   "cell_type": "markdown",
   "metadata": {},
   "source": [
    "## 读取全A股名称"
   ]
  },
  {
   "cell_type": "code",
   "execution_count": null,
   "metadata": {
    "collapsed": true
   },
   "outputs": [],
   "source": [
    "DataAPI.read.get_A_secs_name(sec_ids=['000001.SZ', '000008.SZ'])"
   ]
  },
  {
   "cell_type": "code",
   "execution_count": null,
   "metadata": {
    "collapsed": true
   },
   "outputs": [],
   "source": [
    "DataAPI.read.get_H_secs_name(sec_ids=['0091.HK', '8198.HK'])"
   ]
  },
  {
   "cell_type": "code",
   "execution_count": null,
   "metadata": {
    "collapsed": true
   },
   "outputs": [],
   "source": [
    "DataAPI.read.get_secs_name(sec_ids=['000001.SZ', '000008.SZ','0091.HK', '8198.HK'])"
   ]
  },
  {
   "cell_type": "markdown",
   "metadata": {},
   "source": [
    "# 读取industry"
   ]
  },
  {
   "cell_type": "code",
   "execution_count": null,
   "metadata": {
    "collapsed": true
   },
   "outputs": [],
   "source": [
    "# industry_code的取值：A_SWL1 H_SWL1 H_GICSL1 \n",
    "# sec_ids为空表示输出当天所有股票的行业分类\n",
    "#DataAPI.read.get_secs_industry(date=\"2017-09-26\", sec_ids=['000001.SZ', '000008.SZ'], industry_code=\"A_SWL1\")\n",
    "#DataAPI.read.get_secs_industry(date=\"2017-09-27\", sec_ids=['0041.HK', '8198.HK','0081.HK'], industry_code=\"H_SWL1\")\n",
    "DataAPI.read.get_secs_industry_SWL1(sec_ids=['0041.HK', '8198.HK','0081.HK','000001.SZ', '000008.SZ'], date=\"2017-09-27\")\n",
    "# 某日期的申万一级行业，数据格式 {股票代码：申万一级行业}"
   ]
  },
  {
   "cell_type": "markdown",
   "metadata": {},
   "source": [
    "# 读取indicator"
   ]
  },
  {
   "cell_type": "code",
   "execution_count": null,
   "metadata": {
    "collapsed": true
   },
   "outputs": [],
   "source": [
    "DataAPI.read.get_secs_indicator(indicator='close', sec_ids=[], date='2018-03-01', log=False).head(4)"
   ]
  },
  {
   "cell_type": "code",
   "execution_count": null,
   "metadata": {
    "collapsed": true
   },
   "outputs": [],
   "source": [
    "DataAPI.read.get_secs_indicator(indicator='OR_TTM2', sec_ids=[], date='2016-09-30', log=False).head(4)"
   ]
  },
  {
   "cell_type": "markdown",
   "metadata": {},
   "source": [
    "# 读取factor"
   ]
  },
  {
   "cell_type": "code",
   "execution_count": null,
   "metadata": {
    "collapsed": true
   },
   "outputs": [],
   "source": [
    "DataAPI.read.get_secs_factor(factor='GROWTH', sec_ids=[], date='2018-03-02',log=False)"
   ]
  },
  {
   "cell_type": "code",
   "execution_count": null,
   "metadata": {
    "collapsed": true
   },
   "outputs": [],
   "source": [
    "DataAPI.read.get_secs_factor(factor='CURRENT', sec_ids=[], date='2017-03-31',log=False).head(5)"
   ]
  },
  {
   "cell_type": "code",
   "execution_count": null,
   "metadata": {
    "collapsed": true
   },
   "outputs": [],
   "source": [
    "DataAPI.read.get_secs_factor_on_multidays(factor='VALUE', sec_ids=['000001.SZ', '000008.SZ'], trading_days=trading_days,log=False)"
   ]
  },
  {
   "cell_type": "markdown",
   "metadata": {},
   "source": [
    "# 读取factor_return"
   ]
  },
  {
   "cell_type": "code",
   "execution_count": null,
   "metadata": {
    "collapsed": true
   },
   "outputs": [],
   "source": [
    "DataAPI.read.get_factor_return_daily(factor_return_name='SIZE', trading_days=trading_days[1:]).head(3) # 读取指定时间段单天收益率"
   ]
  },
  {
   "cell_type": "code",
   "execution_count": null,
   "metadata": {
    "collapsed": true
   },
   "outputs": [],
   "source": [
    "DataAPI.read.get_factor_return_cum(factor_return_name='SIZE', trading_days=trading_days[2:])#  读取指定时间段累计复利收益率"
   ]
  },
  {
   "cell_type": "code",
   "execution_count": null,
   "metadata": {
    "collapsed": true
   },
   "outputs": [],
   "source": [
    "DataAPI.read.get_factor_return_cum(factor_return_name='SIZE', trading_days=trading_days[2:])#  读取指定时间段累计复利收益率"
   ]
  },
  {
   "cell_type": "code",
   "execution_count": null,
   "metadata": {
    "collapsed": true
   },
   "outputs": [],
   "source": [
    "DataAPI.read.plot_single_factor_return_cum(factor_return_name_list=[], trading_days=trading_days[1:], save_plot_path=r\"E:\\02_work\\sw\\db\\factor_return\\picture\")"
   ]
  },
  {
   "cell_type": "code",
   "execution_count": null,
   "metadata": {
    "collapsed": true
   },
   "outputs": [],
   "source": []
  }
 ],
 "metadata": {
  "kernelspec": {
   "display_name": "Python 3",
   "language": "python",
   "name": "python3"
  },
  "language_info": {
   "codemirror_mode": {
    "name": "ipython",
    "version": 3
   },
   "file_extension": ".py",
   "mimetype": "text/x-python",
   "name": "python",
   "nbconvert_exporter": "python",
   "pygments_lexer": "ipython3",
   "version": "3.6.5"
  },
  "toc": {
   "base_numbering": 1,
   "nav_menu": {},
   "number_sections": true,
   "sideBar": true,
   "skip_h1_title": false,
   "title_cell": "Table of Contents",
   "title_sidebar": "Contents",
   "toc_cell": false,
   "toc_position": {},
   "toc_section_display": true,
   "toc_window_display": false
  }
 },
 "nbformat": 4,
 "nbformat_minor": 2
}
