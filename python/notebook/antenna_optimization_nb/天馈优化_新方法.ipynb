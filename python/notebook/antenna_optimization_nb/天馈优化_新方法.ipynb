{
 "cells": [
  {
   "cell_type": "code",
   "execution_count": 1,
   "metadata": {},
   "outputs": [
    {
     "name": "stdout",
     "output_type": "stream",
     "text": [
      "Populating the interactive namespace from numpy and matplotlib\n"
     ]
    }
   ],
   "source": [
    "%pylab inline\n",
    "%load_ext autoreload\n",
    "%autoreload 2\n",
    "\n",
    "import psycopg2\n",
    "import pandas as pd\n",
    "import numpy as np\n",
    "import os\n",
    "import matplotlib.pyplot as plt\n",
    "\n",
    "from antenna_optimization.utils import tools_new_method as tools\n",
    "plt.rcParams['font.sans-serif'] = ['SimHei']  # 步骤一（替换sans-serif字体）\n",
    "plt.rcParams['axes.unicode_minus'] = False   # 步骤二（解决坐标轴负数的负号显示问题）"
   ]
  },
  {
   "cell_type": "markdown",
   "metadata": {},
   "source": [
    "# 数据获取"
   ]
  },
  {
   "cell_type": "code",
   "execution_count": 2,
   "metadata": {},
   "outputs": [
    {
     "name": "stdout",
     "output_type": "stream",
     "text": [
      "已经存在，直接读入\n"
     ]
    }
   ],
   "source": [
    "root_path = r\"E:\\data\\01_antenna_self_optimize\\new_method\"\n",
    "# 连接数据库\n",
    "conn = psycopg2.connect(database='feeder', user='feeder_dev',\n",
    "                        password='feeder_dev', host='192.168.101.66',\n",
    "                        port='5432')\n",
    "\n",
    "# 读取工参数据\n",
    "#query = \"SELECT * FROM test_mdt WHERE longitude=119.30127 AND latitude = 26.1057\"\n",
    "#mdt = pd.read_sql_query(query, conn)\n",
    "#mdt = mdt.sort_values(['s_ci'])\n",
    "query1 = \"SELECT ci, longitude, latitude FROM sm_cl_location\"\n",
    "df_cell_info = pd.read_sql_query(query1, conn)\n",
    "\n",
    "# 读取划定区域数据\n",
    "# 选取划定区域 region_1 经度最小值 最大值 维度最小值 最大值\n",
    "region_1 = [119.30127, 119.33075, 26.1057, 26.13431]\n",
    "fold_name = '-'.join(list(map(str, region_1)))\n",
    "project_path = os.path.join(root_path, fold_name)\n",
    "\n",
    "if not os.path.exists(project_path):\n",
    "    os.makedirs(project_path)\n",
    "    \n",
    "if os.path.exists(os.path.join(project_path, \"df_selected_area.csv\")):\n",
    "    print(\"已经存在，直接读入\")\n",
    "    df_selected_area = pd.read_csv(os.path.join(project_path, \"df_selected_area.csv\"))\n",
    "else:\n",
    "    #query = \"SELECT s_ci, longitude, latitude, s_rsrp FROM test_mdt WHERE\\\n",
    "    #        (longitude BETWEEN {} AND {}) AND (latitude BETWEEN {} AND {})\\\n",
    "    #            \".format(region_1[0], region_1[1], region_1[2], region_1[3])\n",
    "\n",
    "    #df_selected_area = pd.read_sql_query(query, conn)\n",
    "    #df_selected_area.to_csv(r\"E:\\01_work_documents\\2018-08\\df_selected_area.csv\")\n",
    "    df_selected_area = pd.read_csv(r\"E:\\01_work_documents\\2018-08\\df_selected_area.csv\",\n",
    "                                   index_col=0)\n",
    "\n",
    "    # 仅保留小区的用户点位置种类大于20的小区 避免小区的用户点都集中在某一点的情况\n",
    "    a = df_selected_area.groupby(['s_ci', 'longitude', 'latitude'], as_index=False).size().groupby(['s_ci']).size()\n",
    "    b = a[a>5].index\n",
    "    df_selected_area = df_selected_area[df_selected_area['s_ci'].isin(b)]\n",
    "    # 仅保留用户数大于500的小区\n",
    "    df_selected_area.groupby(['s_ci']).size().sort_values()\n",
    "    a = df_selected_area.groupby(['s_ci']).size()\n",
    "    b = a[a > 500].index\n",
    "    df_selected_area = df_selected_area[df_selected_area['s_ci'].isin(b)]\n",
    "\n",
    "    # 栅格化评估区域\n",
    "    N = 10  # 经度\n",
    "    M = 10  # 纬度\n",
    "    lon_bins = np.arange(region_1[0], region_1[1] +\n",
    "                         0.00002, (region_1[1] +\n",
    "                         0.00001 - region_1[0]) / N)\n",
    "\n",
    "    lat_bins = np.arange(region_1[2], region_1[3] + 0.00002, (region_1[3] +\n",
    "                                                              0.00001 - region_1[2]) / M)\n",
    "\n",
    "    df_selected_area['grid_num'] = np.nan\n",
    "\n",
    "    grid_num = 1\n",
    "\n",
    "    for i in range(0, len(lon_bins) - 1):\n",
    "        for j in range(0, len(lat_bins) - 1):\n",
    "            conds1 = (df_selected_area.longitude >= lon_bins[i]) & (df_selected_area.longitude\n",
    "                                                                < lon_bins[i + 1])\n",
    "            conds2 = (df_selected_area.latitude >= lat_bins[j]) & (df_selected_area.latitude\n",
    "                                                               < lat_bins[j + 1])\n",
    "            df_selected_area.loc[(conds1 & conds2), 'grid_num'] = grid_num\n",
    "            grid_num += 1\n",
    "    df_selected_area.to_csv(os.path.join(project_path, \"df_selected_area.csv\"), index=0)"
   ]
  },
  {
   "cell_type": "code",
   "execution_count": 4,
   "metadata": {},
   "outputs": [],
   "source": [
    "num_liantiao_limit = 1  # 每个问题小区选取的联调小区个数上限\n",
    "scope_liantiao = 0.5  # 问题小区扩充多少km为联调小区\n",
    "tv_weak_cell = 0.005  # 确定弱覆盖小区对应的比率\n",
    "scope_affected = 0.5  # 联调小区扩充多少km为受影响区域\n",
    "n_neighbors = 10  # knn回归确定的邻居个数"
   ]
  },
  {
   "cell_type": "markdown",
   "metadata": {},
   "source": [
    "# 确定待调小区"
   ]
  },
  {
   "cell_type": "code",
   "execution_count": 5,
   "metadata": {},
   "outputs": [],
   "source": [
    "lst_cells_to_tune = []  # 待调小区 mdt格式\n",
    "\n",
    "# 确定问题小区\n",
    "df_selected_area['weak_flag'] =  df_selected_area['s_rsrp'].apply(lambda x: 1 if x < -120 else 0)\n",
    "a1 = df_selected_area.groupby(['s_ci']).weak_flag.mean()\n",
    "a2 = a1[a1 > tv_weak_cell]\n",
    "lst_weak_cell_mdt = a2.index.tolist()\n",
    "lst_weak_cell_sm = [tools.mdt2smcl(i) for i in lst_weak_cell_mdt]\n",
    "lst_cells_to_tune.extend(lst_weak_cell_mdt)  # 将问题小区添加到待调小区列表中\n",
    "\n",
    "# 根据问题小区确定联调小区 \n",
    "lst_liantiao_mdt = []\n",
    "for i in range(len(lst_weak_cell_mdt)):\n",
    "    df_weak_cell = df_selected_area[df_selected_area['s_ci'] == lst_weak_cell_mdt[0]]\n",
    "    lat_db = df_weak_cell['latitude'].min() - tools.km2lat(km=scope_liantiao)\n",
    "    lat_ub = df_weak_cell['latitude'].max() + tools.km2lat(km=scope_liantiao)\n",
    "    lon_lb = df_weak_cell['longitude'].min() - tools.km2lon(lat=(lat_db + lat_ub) / 2, km=scope_liantiao)\n",
    "    lon_rb = df_weak_cell['longitude'].max() + tools.km2lon(lat=(lat_db + lat_ub) / 2, km=scope_liantiao)\n",
    "    cond1 = df_selected_area['longitude'].between(lon_lb, lon_rb)\n",
    "    cond2 = df_selected_area['latitude'].between(lat_db, lat_ub)\n",
    "    df_liantiao_area = df_selected_area[cond1 & cond2]\n",
    "    # 仅选取用户数排名后五的小区\n",
    "    a1 = df_liantiao_area['s_ci'].value_counts() / len(df_liantiao_area)\n",
    "    a1 = a1.sort_values(ascending=True)\n",
    "    a1 = list(set(a1.index.tolist()) - set(lst_weak_cell_mdt))\n",
    "    if len(a1) > num_liantiao_limit:\n",
    "        a1 = a1[:num_liantiao_limit]\n",
    "    lst_liantiao_mdt.extend(a1)\n",
    "\n",
    "lst_cells_to_tune.extend(lst_liantiao_mdt)  # 将问题小区添加到待调小区列表中\n",
    "lst_cells_to_tune = list(set(lst_cells_to_tune))\n",
    "\n",
    "# 根据待调小区确定获取受影响区域\n",
    "df_cells_to_tune = df_selected_area[df_selected_area['s_ci'].isin(lst_cells_to_tune)]\n",
    "lat_db = df_cells_to_tune['latitude'].min() - tools.km2lat(km=scope_affected)\n",
    "lat_ub = df_cells_to_tune['latitude'].max() + tools.km2lat(km=scope_affected)\n",
    "lon_lb = df_cells_to_tune['longitude'].min() - tools.km2lon(lat=(lat_db + lat_ub) / 2, km=scope_affected)\n",
    "lon_rb = df_cells_to_tune['longitude'].max() + tools.km2lon(lat=(lat_db + lat_ub) / 2, km=scope_affected)\n",
    "cond1 = df_selected_area['longitude'].between(lon_lb, lon_rb)\n",
    "cond2 = df_selected_area['latitude'].between(lat_db, lat_ub)\n",
    "df_affected_area = df_selected_area[cond1 & cond2]\n",
    "\n",
    "print(\"问题小区列表：\", lst_weak_cell_mdt)\n",
    "print(\"联调小区列表：\", lst_cells_to_tune)"
   ]
  },
  {
   "cell_type": "markdown",
   "metadata": {},
   "source": [
    "# 调整"
   ]
  },
  {
   "cell_type": "code",
   "execution_count": 21,
   "metadata": {},
   "outputs": [],
   "source": [
    "lst_degrees = np.random.uniform(np.pi / 18, np.pi / 3, len(lst_cells_to_tune))  # 确定一个待调整度数\n",
    "# copy划定区域数据 在副本上将不断进行删减 删除旋转后丧失的用户点 增加旋转后新增的用户点\n",
    "df_selected_area_curr = df_selected_area.copy()\n",
    "del df_selected_area_curr['weak_flag']\n",
    "df_selected_area_curr['is_est'] = 0"
   ]
  },
  {
   "cell_type": "code",
   "execution_count": 54,
   "metadata": {},
   "outputs": [
    {
     "data": {
      "text/plain": [
       "array([0.26813571, 0.71884423, 0.83868407, 0.37884337, 0.18850056,\n",
       "       0.48079477, 0.37439089])"
      ]
     },
     "execution_count": 54,
     "metadata": {},
     "output_type": "execute_result"
    }
   ],
   "source": [
    "lst_degrees"
   ]
  },
  {
   "cell_type": "code",
   "execution_count": 57,
   "metadata": {},
   "outputs": [],
   "source": [
    "def fitness_func(*X):\n",
    "    df_selected_area_tuned = tools.estimate_rsrp_on_given_degrees(df_selected_area, df_selected_area_curr, df_affected_area, df_cell_info, lst_cells_to_tune, X, project_path)\n",
    "\n",
    "    # 计算适应度函数值\n",
    "    df_selected_area_tuned['weak_flag'] =  df_selected_area_tuned['s_rsrp'].apply(lambda x: 1 if x < -120 else 0)\n",
    "    c1 = df_selected_area_tuned.groupby(['grid_num']).weak_flag.mean()  # 每个小区的弱覆盖率\n",
    "    c2 = len(c1[c1 > 0.0005])  # 弱覆盖小区个数\n",
    "    fv = - (c2 + c1.mean())\n",
    "    return fv"
   ]
  },
  {
   "cell_type": "code",
   "execution_count": 56,
   "metadata": {},
   "outputs": [],
   "source": [
    "from algolib.optimization import Genetic_algorithm\n",
    "bounds = [[- np.pi / 3, np.pi / 3]] * len(lst_cells_to_tune)\n",
    "ga = Genetic_algorithm(bounds, fitness_func)"
   ]
  },
  {
   "cell_type": "code",
   "execution_count": 11,
   "metadata": {},
   "outputs": [],
   "source": [
    "# 确定评估区域中各栅格的弱覆盖率 设每个栅格弱覆盖用户占比达到0.005视为 弱覆盖栅格\n",
    "b1 = df_selected_area.groupby(['grid_num']).weak_flag.mean()\n",
    "b2 = len(b1[b1 > 0.0005])"
   ]
  },
  {
   "cell_type": "code",
   "execution_count": 47,
   "metadata": {},
   "outputs": [
    {
     "name": "stdout",
     "output_type": "stream",
     "text": [
      "0\n",
      "1\n",
      "2\n",
      "3\n",
      "4\n",
      "5\n",
      "6\n",
      "7\n",
      "8\n",
      "9\n",
      "10\n"
     ]
    },
    {
     "data": {
      "text/plain": [
       "<Figure size 432x288 with 0 Axes>"
      ]
     },
     "metadata": {},
     "output_type": "display_data"
    },
    {
     "data": {
      "text/plain": [
       "<Figure size 432x288 with 0 Axes>"
      ]
     },
     "metadata": {},
     "output_type": "display_data"
    },
    {
     "data": {
      "text/plain": [
       "<Figure size 432x288 with 0 Axes>"
      ]
     },
     "metadata": {},
     "output_type": "display_data"
    },
    {
     "data": {
      "text/plain": [
       "<Figure size 432x288 with 0 Axes>"
      ]
     },
     "metadata": {},
     "output_type": "display_data"
    },
    {
     "data": {
      "text/plain": [
       "<Figure size 432x288 with 0 Axes>"
      ]
     },
     "metadata": {},
     "output_type": "display_data"
    },
    {
     "data": {
      "text/plain": [
       "<Figure size 432x288 with 0 Axes>"
      ]
     },
     "metadata": {},
     "output_type": "display_data"
    },
    {
     "data": {
      "text/plain": [
       "<Figure size 432x288 with 0 Axes>"
      ]
     },
     "metadata": {},
     "output_type": "display_data"
    },
    {
     "data": {
      "text/plain": [
       "<Figure size 432x288 with 0 Axes>"
      ]
     },
     "metadata": {},
     "output_type": "display_data"
    },
    {
     "data": {
      "text/plain": [
       "<Figure size 432x288 with 0 Axes>"
      ]
     },
     "metadata": {},
     "output_type": "display_data"
    },
    {
     "data": {
      "text/plain": [
       "<Figure size 432x288 with 0 Axes>"
      ]
     },
     "metadata": {},
     "output_type": "display_data"
    },
    {
     "data": {
      "text/plain": [
       "<Figure size 432x288 with 0 Axes>"
      ]
     },
     "metadata": {},
     "output_type": "display_data"
    }
   ],
   "source": [
    "df_selected_area_tuned = tools.estimate_rsrp_on_given_degrees(df_selected_area, df_selected_area_curr, df_affected_area, df_cell_info, lst_cells_to_tune, lst_degrees, project_path)"
   ]
  },
  {
   "cell_type": "code",
   "execution_count": null,
   "metadata": {},
   "outputs": [],
   "source": [
    "# 计算适应度函数值\n",
    "# 确定评估区域中各栅格的弱覆盖率 设每个栅格弱覆盖用户占比达到0.005视为 弱覆盖栅格\n",
    "b1 = df_selected_area.groupby(['grid_num']).weak_flag.mean()\n",
    "b2 = len(b1[b1 > 0.0005])\n",
    "\n",
    "df_selected_area_tuned['weak_flag'] =  df_selected_area_tuned['s_rsrp'].apply(lambda x: 1 if x < -120 else 0)\n",
    "c1 = df_selected_area_tuned.groupby(['grid_num']).weak_flag.mean()\n",
    "c2 = len(c1[c1 > 0.0005])\n",
    "# df_final['weak_flag_tuned'] = df_final['s_rsrp_es'].apply(lambda x: 1 if x <\n",
    "#                                                          -120 else 0)\n",
    "\n",
    "# c1 = df_final.groupby(['grid_num']).weak_flag_tuned.mean()\n",
    "# #    c2 = - c1.sum()  # c1.sum()越小越好 则 -c1.sum()越大越好\n",
    "# c2 = len(c1[c1 > 0.005])\n",
    "# print(\"调整前弱覆盖栅格个数：{} \\n \\b调整后弱覆盖栅格个数：{}\".format(b2, c2))"
   ]
  },
  {
   "cell_type": "code",
   "execution_count": 60,
   "metadata": {},
   "outputs": [
    {
     "name": "stdout",
     "output_type": "stream",
     "text": [
      "当前迭代次数 0\n",
      "当前迭代下的适应度函数值为:  [[8.51799018e-06]\n",
      " [4.68029311e-07]\n",
      " [7.06628226e-06]\n",
      " [8.51799018e-06]\n",
      " [7.02170272e-06]\n",
      " [8.42169410e-06]\n",
      " [1.69493366e-06]\n",
      " [3.04324193e-06]\n",
      " [7.06628226e-06]\n",
      " [8.56256972e-06]]\n",
      "当前迭代次数 1\n",
      "当前迭代下的适应度函数值为:  [[6.81947412e-06]\n",
      " [1.53633576e-06]\n",
      " [7.01901061e-06]\n",
      " [7.12995209e-06]\n",
      " [8.91044478e-06]\n",
      " [7.01939112e-06]\n",
      " [7.12995209e-06]\n",
      " [6.81958401e-06]\n",
      " [8.91044478e-06]\n",
      " [7.12995209e-06]]\n",
      "当前迭代次数 2\n",
      "当前迭代下的适应度函数值为:  [[6.75274478e-06]\n",
      " [7.04124244e-06]\n",
      " [7.03411081e-06]\n",
      " [6.78645754e-06]\n",
      " [7.03980463e-06]\n",
      " [6.95656867e-06]\n",
      " [5.32464241e-06]\n",
      " [7.04124244e-06]\n",
      " [6.95557861e-06]\n",
      " [6.74719420e-06]]\n",
      "当前迭代次数 3\n",
      "当前迭代下的适应度函数值为:  [[8.35281990e-06]\n",
      " [7.02061050e-06]\n",
      " [1.66075313e-06]\n",
      " [6.96477922e-06]\n",
      " [8.31832621e-06]\n",
      " [1.66075313e-06]\n",
      " [6.91214425e-06]\n",
      " [6.96477922e-06]\n",
      " [7.85316968e-06]\n",
      " [7.85316968e-06]]\n",
      "当前迭代次数 4\n",
      "当前迭代下的适应度函数值为:  [[9.70112881e-07]\n",
      " [7.13346070e-06]\n",
      " [6.94597824e-06]\n",
      " [6.94597824e-06]\n",
      " [1.63405048e-06]\n",
      " [6.94597824e-06]\n",
      " [7.12036477e-06]\n",
      " [1.88453493e-07]\n",
      " [6.77320149e-06]\n",
      " [7.07659090e-06]]\n",
      "当前迭代次数 5\n",
      "当前迭代下的适应度函数值为:  [[2.09656991e-06]\n",
      " [1.50462189e-06]\n",
      " [1.84400646e-06]\n",
      " [2.17550780e-06]\n",
      " [1.43620552e-06]\n",
      " [2.17550780e-06]\n",
      " [1.89075227e-06]\n",
      " [2.46018138e-07]\n",
      " [2.17550780e-06]\n",
      " [1.97410006e-06]]\n",
      "当前迭代次数 6\n",
      "当前迭代下的适应度函数值为:  [[6.99640503e-06]\n",
      " [6.88306225e-06]\n",
      " [8.21342883e-06]\n",
      " [6.93067493e-06]\n",
      " [6.88306225e-06]\n",
      " [1.52364959e-06]\n",
      " [6.95982614e-06]\n",
      " [6.88306225e-06]\n",
      " [6.77312240e-06]\n",
      " [6.72135149e-06]]\n",
      "当前迭代次数 7\n",
      "当前迭代下的适应度函数值为:  [[6.81234108e-06]\n",
      " [6.92545188e-06]\n",
      " [7.01492221e-06]\n",
      " [7.01487258e-06]\n",
      " [8.59235635e-06]\n",
      " [6.97964338e-06]\n",
      " [6.92550093e-06]\n",
      " [4.40377878e-07]\n",
      " [1.06068509e-06]\n",
      " [1.84395540e-06]]\n",
      "当前迭代次数 8\n",
      "当前迭代下的适应度函数值为:  [[8.42864262e-06]\n",
      " [6.96032462e-06]\n",
      " [7.03224134e-06]\n",
      " [6.96032462e-06]\n",
      " [7.03224134e-06]\n",
      " [6.96032462e-06]\n",
      " [6.94926351e-06]\n",
      " [1.48765679e-06]\n",
      " [7.03224134e-06]\n",
      " [8.42902801e-06]]\n",
      "当前迭代次数 9\n",
      "当前迭代下的适应度函数值为:  [[3.04076700e-06]\n",
      " [9.98253599e-07]\n",
      " [8.65253815e-06]\n",
      " [8.65253815e-06]\n",
      " [6.81512348e-06]\n",
      " [6.81512348e-06]\n",
      " [8.57336854e-06]\n",
      " [1.46709685e-06]\n",
      " [8.65253815e-06]\n",
      " [6.81773545e-06]]\n",
      "当前迭代次数 10\n",
      "当前迭代下的适应度函数值为:  [[1.88468543e-06]\n",
      " [6.84909159e-06]\n",
      " [6.82748560e-06]\n",
      " [8.40182629e-06]\n",
      " [6.82689023e-06]\n",
      " [8.37969503e-06]\n",
      " [6.93299491e-06]\n",
      " [8.40333831e-06]\n",
      " [7.04630943e-06]\n",
      " [7.04630943e-06]]\n",
      "当前迭代次数 11\n",
      "当前迭代下的适应度函数值为:  [[1.88816382e-06]\n",
      " [6.92669985e-06]\n",
      " [6.92669985e-06]\n",
      " [6.86397403e-06]\n",
      " [6.92669985e-06]\n",
      " [1.48202460e-06]\n",
      " [3.33499606e-07]\n",
      " [6.85084653e-06]\n",
      " [1.47263569e-06]\n",
      " [6.92669985e-06]]\n",
      "当前迭代次数 12\n",
      "当前迭代下的适应度函数值为:  [[8.46552601e-06]\n",
      " [8.46552601e-06]\n",
      " [8.46552601e-06]\n",
      " [6.77826461e-06]\n",
      " [1.92675920e-06]\n",
      " [8.46552601e-06]\n",
      " [1.74326905e-06]\n",
      " [2.45656130e-07]\n",
      " [1.92675920e-06]\n",
      " [1.97303923e-06]]\n",
      "当前迭代次数 13\n",
      "当前迭代下的适应度函数值为:  [[6.95483160e-06]\n",
      " [7.14076269e-06]\n",
      " [6.95483160e-06]\n",
      " [8.51438972e-06]\n",
      " [7.14076269e-06]\n",
      " [6.99616002e-06]\n",
      " [3.47217196e-07]\n",
      " [7.11772385e-06]\n",
      " [7.03328024e-06]\n",
      " [6.99616002e-06]]\n",
      "当前迭代次数 14\n",
      "当前迭代下的适应度函数值为:  [[7.15587399e-06]\n",
      " [8.48726222e-06]\n",
      " [8.48456500e-06]\n",
      " [7.11838050e-06]\n",
      " [8.47547592e-06]\n",
      " [6.97812894e-06]\n",
      " [7.11838050e-06]\n",
      " [6.97816115e-06]\n",
      " [7.11838050e-06]\n",
      " [6.97816115e-06]]\n",
      "当前迭代次数 15\n",
      "当前迭代下的适应度函数值为:  [[1.74157206e-06]\n",
      " [1.49383358e-06]\n",
      " [6.91753304e-06]\n",
      " [6.91820756e-06]\n",
      " [2.07157042e-06]\n",
      " [6.91753304e-06]\n",
      " [2.41493237e-07]\n",
      " [6.91753304e-06]\n",
      " [6.91753304e-06]\n",
      " [6.91753304e-06]]\n",
      "当前迭代次数 16\n",
      "当前迭代下的适应度函数值为:  [[6.79385671e-06]\n",
      " [6.79385671e-06]\n",
      " [6.79385671e-06]\n",
      " [3.02319486e-06]\n",
      " [3.02319486e-06]\n",
      " [8.39584062e-06]\n",
      " [8.39584062e-06]\n",
      " [8.66439406e-06]\n",
      " [8.66439406e-06]\n",
      " [3.02319486e-06]]\n",
      "当前迭代次数 17\n",
      "当前迭代下的适应度函数值为:  [[7.16386173e-06]\n",
      " [1.74364037e-06]\n",
      " [1.74370479e-06]\n",
      " [3.04539114e-06]\n",
      " [3.08142858e-06]\n",
      " [2.36323681e-06]\n",
      " [8.94671136e-07]\n",
      " [2.86226597e-06]\n",
      " [3.08142858e-06]\n",
      " [6.86019300e-06]]\n",
      "当前迭代次数 18\n",
      "当前迭代下的适应度函数值为:  [[7.14496482e-06]\n",
      " [6.91949854e-06]\n",
      " [7.14283596e-06]\n",
      " [1.75033375e-06]\n",
      " [7.13806025e-06]\n",
      " [7.04424255e-06]\n",
      " [7.14496482e-06]\n",
      " [5.73942237e-06]\n",
      " [6.74273285e-06]\n",
      " [1.98952575e-06]]\n",
      "当前迭代次数 19\n",
      "当前迭代下的适应度函数值为:  [[7.27582638e-06]\n",
      " [8.49677497e-06]\n",
      " [6.93868947e-06]\n",
      " [7.13843081e-06]\n",
      " [1.58800732e-06]\n",
      " [8.49744746e-06]\n",
      " [6.88855877e-06]\n",
      " [7.12708553e-06]\n",
      " [6.93868947e-06]\n",
      " [8.42663801e-07]]\n",
      "最优适应度函数值：8.910444784654198e-06\n"
     ]
    }
   ],
   "source": [
    "optimalSolution, optimalValue = ga.fit(20)"
   ]
  },
  {
   "cell_type": "code",
   "execution_count": 61,
   "metadata": {},
   "outputs": [
    {
     "data": {
      "text/plain": [
       "array([-0.76697329, -1.00552186, -1.00552186, -1.00552186, -1.00552186,\n",
       "       -1.00552186, -1.00552186, -1.00552186])"
      ]
     },
     "execution_count": 61,
     "metadata": {},
     "output_type": "execute_result"
    }
   ],
   "source": [
    "optimalSolution"
   ]
  }
 ],
 "metadata": {
  "hide_input": false,
  "kernelspec": {
   "display_name": "Python 3",
   "language": "python",
   "name": "python3"
  },
  "language_info": {
   "codemirror_mode": {
    "name": "ipython",
    "version": 3
   },
   "file_extension": ".py",
   "mimetype": "text/x-python",
   "name": "python",
   "nbconvert_exporter": "python",
   "pygments_lexer": "ipython3",
   "version": "3.6.5"
  },
  "toc": {
   "base_numbering": 1,
   "nav_menu": {},
   "number_sections": true,
   "sideBar": true,
   "skip_h1_title": false,
   "title_cell": "Table of Contents",
   "title_sidebar": "Contents",
   "toc_cell": false,
   "toc_position": {},
   "toc_section_display": true,
   "toc_window_display": false
  },
  "varInspector": {
   "cols": {
    "lenName": 16,
    "lenType": 16,
    "lenVar": 40
   },
   "kernels_config": {
    "python": {
     "delete_cmd_postfix": "",
     "delete_cmd_prefix": "del ",
     "library": "var_list.py",
     "varRefreshCmd": "print(var_dic_list())"
    },
    "r": {
     "delete_cmd_postfix": ") ",
     "delete_cmd_prefix": "rm(",
     "library": "var_list.r",
     "varRefreshCmd": "cat(var_dic_list()) "
    }
   },
   "position": {
    "height": "402px",
    "left": "1498px",
    "right": "72px",
    "top": "121px",
    "width": "350px"
   },
   "types_to_exclude": [
    "module",
    "function",
    "builtin_function_or_method",
    "instance",
    "_Feature"
   ],
   "window_display": false
  }
 },
 "nbformat": 4,
 "nbformat_minor": 2
}
