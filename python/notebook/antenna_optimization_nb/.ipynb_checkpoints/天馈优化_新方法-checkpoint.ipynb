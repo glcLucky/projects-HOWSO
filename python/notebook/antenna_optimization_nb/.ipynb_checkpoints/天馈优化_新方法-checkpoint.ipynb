{
 "cells": [
  {
   "cell_type": "code",
   "execution_count": 65,
   "metadata": {},
   "outputs": [
    {
     "name": "stdout",
     "output_type": "stream",
     "text": [
      "Populating the interactive namespace from numpy and matplotlib\n",
      "The autoreload extension is already loaded. To reload it, use:\n",
      "  %reload_ext autoreload\n"
     ]
    }
   ],
   "source": [
    "%pylab inline\n",
    "%load_ext autoreload\n",
    "%autoreload 2\n",
    "\n",
    "import psycopg2\n",
    "import pandas as pd\n",
    "import numpy as np\n",
    "import os\n",
    "import matplotlib.pyplot as plt\n",
    "\n",
    "from antenna_optimization.utils import tools_new_method as tools\n",
    "plt.rcParams['font.sans-serif'] = ['SimHei']  # 步骤一（替换sans-serif字体）\n",
    "plt.rcParams['axes.unicode_minus'] = False   # 步骤二（解决坐标轴负数的负号显示问题）"
   ]
  },
  {
   "cell_type": "markdown",
   "metadata": {},
   "source": [
    "# 数据获取"
   ]
  },
  {
   "cell_type": "code",
   "execution_count": 66,
   "metadata": {},
   "outputs": [
    {
     "name": "stderr",
     "output_type": "stream",
     "text": [
      "D:\\Anaconda\\lib\\site-packages\\numpy\\lib\\arraysetops.py:472: FutureWarning: elementwise comparison failed; returning scalar instead, but in the future will perform elementwise comparison\n",
      "  mask |= (ar1 == a)\n"
     ]
    }
   ],
   "source": [
    "# 连接数据库\n",
    "conn = psycopg2.connect(database='feeder', user='feeder_dev',\n",
    "                        password='feeder_dev', host='192.168.101.66',\n",
    "                        port='5432')\n",
    "\n",
    "# 读取工参数据\n",
    "#query = \"SELECT * FROM test_mdt WHERE longitude=119.30127 AND latitude = 26.1057\"\n",
    "#mdt = pd.read_sql_query(query, conn)\n",
    "#mdt = mdt.sort_values(['s_ci'])\n",
    "query1 = \"SELECT ci, longitude, latitude FROM sm_cl_location\"\n",
    "df_cell_info = pd.read_sql_query(query1, conn)\n",
    "\n",
    "# 读取划定区域数据\n",
    "# 选取划定区域 region_1 经度最小值 最大值 维度最小值 最大值\n",
    "region_1 = [119.30127, 119.33075, 26.1057, 26.13431]\n",
    "#query = \"SELECT s_ci, longitude, latitude, s_rsrp FROM test_mdt WHERE\\\n",
    "#        (longitude BETWEEN {} AND {}) AND (latitude BETWEEN {} AND {})\\\n",
    "#            \".format(region_1[0], region_1[1], region_1[2], region_1[3])\n",
    "\n",
    "#df_selected_area = pd.read_sql_query(query, conn)\n",
    "#df_selected_area.to_csv(r\"E:\\01_work_documents\\2018-08\\df_selected_area.csv\")\n",
    "df_selected_area = pd.read_csv(r\"E:\\01_work_documents\\2018-08\\df_selected_area.csv\",\n",
    "                               index_col=0)\n",
    "\n",
    "# 仅保留用户数大于500的小区\n",
    "df_selected_area.groupby(['s_ci']).size().sort_values()\n",
    "a = df_selected_area.groupby(['s_ci']).size()\n",
    "b = a[a > 500].index\n",
    "df_selected_area = df_selected_area[df_selected_area['s_ci'].isin(b)]"
   ]
  },
  {
   "cell_type": "code",
   "execution_count": 67,
   "metadata": {},
   "outputs": [],
   "source": [
    "num_liantiao_limit = 5  # 每个问题小区选取的联调小区个数上限\n",
    "scope_liantiao = 0.5  # 问题小区扩充多少km为联调小区\n",
    "tv_weak_cell = 0.005  # 确定弱覆盖小区对应的比率\n",
    "scope_affected = 0.5  # 联调小区扩充多少km为受影响区域\n",
    "n_neighbors = 10  # knn回归确定的邻居个数"
   ]
  },
  {
   "cell_type": "markdown",
   "metadata": {},
   "source": [
    "# 确定待调小区"
   ]
  },
  {
   "cell_type": "code",
   "execution_count": 68,
   "metadata": {},
   "outputs": [],
   "source": [
    "lst_cells_to_tune = []  # 待调小区 mdt格式\n",
    "\n",
    "# 确定问题小区\n",
    "df_selected_area['weak_flag'] =  df_selected_area['s_rsrp'].apply(lambda x: 1 if x < -120 else 0)\n",
    "a1 = df_selected_area.groupby(['s_ci']).weak_flag.mean()\n",
    "a2 = a1[a1 > tv_weak_cell]\n",
    "lst_weak_cell_mdt = a2.index.tolist()\n",
    "lst_weak_cell_sm = [tools.mdt2smcl(i) for i in lst_weak_cell_mdt]\n",
    "lst_cells_to_tune.extend(lst_weak_cell_mdt)  # 将问题小区添加到待调小区列表中\n",
    "\n",
    "# 根据问题小区确定联调小区 \n",
    "lst_liantiao_mdt = []\n",
    "for i in range(len(lst_weak_cell_mdt)):\n",
    "    df_weak_cell = df_selected_area[df_selected_area['s_ci'] == lst_weak_cell_mdt[0]]\n",
    "    lat_db = df_weak_cell['latitude'].min() - tools.km2lat(km=scope_liantiao)\n",
    "    lat_ub = df_weak_cell['latitude'].max() + tools.km2lat(km=scope_liantiao)\n",
    "    lon_lb = df_weak_cell['longitude'].min() - tools.km2lon(lat=(lat_db + lat_ub) / 2, km=scope_liantiao)\n",
    "    lon_rb = df_weak_cell['longitude'].max() + tools.km2lon(lat=(lat_db + lat_ub) / 2, km=scope_liantiao)\n",
    "    cond1 = df_selected_area['longitude'].between(lon_lb, lon_rb)\n",
    "    cond2 = df_selected_area['latitude'].between(lat_db, lat_ub)\n",
    "    df_liantiao_area = df_selected_area[cond1 & cond2]\n",
    "    # 仅选取用户数排名后五的小区\n",
    "    a1 = df_liantiao_area['s_ci'].value_counts() / len(df_liantiao_area)\n",
    "    a1 = a1.sort_values(ascending=True)\n",
    "    a1 = list(set(a1.index.tolist()) - set(lst_weak_cell_mdt))\n",
    "    if len(a1) > num_liantiao_limit:\n",
    "        a1 = a1[:num_liantiao_limit]\n",
    "    lst_liantiao_mdt.extend(a1)\n",
    "\n",
    "lst_cells_to_tune.extend(lst_liantiao_mdt)  # 将问题小区添加到待调小区列表中\n",
    "lst_cells_to_tune = list(set(lst_cells_to_tune))\n",
    "\n",
    "# 根据待调小区确定获取受影响区域\n",
    "df_cells_to_tune = df_selected_area[df_selected_area['s_ci'].isin(lst_cells_to_tune)]\n",
    "lat_db = df_cells_to_tune['latitude'].min() - tools.km2lat(km=scope_affected)\n",
    "lat_ub = df_cells_to_tune['latitude'].max() + tools.km2lat(km=scope_affected)\n",
    "lon_lb = df_cells_to_tune['longitude'].min() - tools.km2lon(lat=(lat_db + lat_ub) / 2, km=scope_affected)\n",
    "lon_rb = df_cells_to_tune['longitude'].max() + tools.km2lon(lat=(lat_db + lat_ub) / 2, km=scope_affected)\n",
    "cond1 = df_selected_area['longitude'].between(lon_lb, lon_rb)\n",
    "cond2 = df_selected_area['latitude'].between(lat_db, lat_ub)\n",
    "df_affected_area = df_selected_area[cond1 & cond2]"
   ]
  },
  {
   "cell_type": "markdown",
   "metadata": {},
   "source": [
    "# 调整"
   ]
  },
  {
   "cell_type": "code",
   "execution_count": 71,
   "metadata": {},
   "outputs": [
    {
     "data": {
      "text/plain": [
       "array([0.48733887, 0.72601973, 0.78023667, 0.50770545, 0.5024591 ,\n",
       "       0.57532192, 0.51862307, 0.71806687, 0.7159561 , 1.00925381,\n",
       "       0.68268279, 0.97164459])"
      ]
     },
     "execution_count": 71,
     "metadata": {},
     "output_type": "execute_result"
    }
   ],
   "source": [
    "lst_degrees = np.random.uniform(np.pi / 18, np.pi / 3, len(lst_cells_to_tune))  # 确定一个待调整度数\n",
    "lst_degrees"
   ]
  },
  {
   "cell_type": "code",
   "execution_count": 77,
   "metadata": {},
   "outputs": [
    {
     "name": "stderr",
     "output_type": "stream",
     "text": [
      "D:\\Anaconda\\lib\\site-packages\\matplotlib\\cbook\\deprecation.py:107: MatplotlibDeprecationWarning: Adding an axes using the same arguments as a previous axes currently reuses the earlier instance.  In a future version, a new instance will always be created and returned.  Meanwhile, this warning can be suppressed, and the future behavior ensured, by passing a unique label to each axes instance.\n",
      "  warnings.warn(message, mplDeprecation, stacklevel=1)\n",
      "D:\\Anaconda\\lib\\site-packages\\matplotlib\\cbook\\deprecation.py:107: MatplotlibDeprecationWarning: Adding an axes using the same arguments as a previous axes currently reuses the earlier instance.  In a future version, a new instance will always be created and returned.  Meanwhile, this warning can be suppressed, and the future behavior ensured, by passing a unique label to each axes instance.\n",
      "  warnings.warn(message, mplDeprecation, stacklevel=1)\n",
      "D:\\Anaconda\\lib\\site-packages\\matplotlib\\cbook\\deprecation.py:107: MatplotlibDeprecationWarning: Adding an axes using the same arguments as a previous axes currently reuses the earlier instance.  In a future version, a new instance will always be created and returned.  Meanwhile, this warning can be suppressed, and the future behavior ensured, by passing a unique label to each axes instance.\n",
      "  warnings.warn(message, mplDeprecation, stacklevel=1)\n",
      "D:\\Anaconda\\lib\\site-packages\\matplotlib\\cbook\\deprecation.py:107: MatplotlibDeprecationWarning: Adding an axes using the same arguments as a previous axes currently reuses the earlier instance.  In a future version, a new instance will always be created and returned.  Meanwhile, this warning can be suppressed, and the future behavior ensured, by passing a unique label to each axes instance.\n",
      "  warnings.warn(message, mplDeprecation, stacklevel=1)\n",
      "D:\\Anaconda\\lib\\site-packages\\matplotlib\\cbook\\deprecation.py:107: MatplotlibDeprecationWarning: Adding an axes using the same arguments as a previous axes currently reuses the earlier instance.  In a future version, a new instance will always be created and returned.  Meanwhile, this warning can be suppressed, and the future behavior ensured, by passing a unique label to each axes instance.\n",
      "  warnings.warn(message, mplDeprecation, stacklevel=1)\n",
      "D:\\Anaconda\\lib\\site-packages\\matplotlib\\cbook\\deprecation.py:107: MatplotlibDeprecationWarning: Adding an axes using the same arguments as a previous axes currently reuses the earlier instance.  In a future version, a new instance will always be created and returned.  Meanwhile, this warning can be suppressed, and the future behavior ensured, by passing a unique label to each axes instance.\n",
      "  warnings.warn(message, mplDeprecation, stacklevel=1)\n",
      "D:\\Anaconda\\lib\\site-packages\\matplotlib\\cbook\\deprecation.py:107: MatplotlibDeprecationWarning: Adding an axes using the same arguments as a previous axes currently reuses the earlier instance.  In a future version, a new instance will always be created and returned.  Meanwhile, this warning can be suppressed, and the future behavior ensured, by passing a unique label to each axes instance.\n",
      "  warnings.warn(message, mplDeprecation, stacklevel=1)\n",
      "D:\\Anaconda\\lib\\site-packages\\matplotlib\\cbook\\deprecation.py:107: MatplotlibDeprecationWarning: Adding an axes using the same arguments as a previous axes currently reuses the earlier instance.  In a future version, a new instance will always be created and returned.  Meanwhile, this warning can be suppressed, and the future behavior ensured, by passing a unique label to each axes instance.\n",
      "  warnings.warn(message, mplDeprecation, stacklevel=1)\n",
      "D:\\Anaconda\\lib\\site-packages\\matplotlib\\cbook\\deprecation.py:107: MatplotlibDeprecationWarning: Adding an axes using the same arguments as a previous axes currently reuses the earlier instance.  In a future version, a new instance will always be created and returned.  Meanwhile, this warning can be suppressed, and the future behavior ensured, by passing a unique label to each axes instance.\n",
      "  warnings.warn(message, mplDeprecation, stacklevel=1)\n",
      "D:\\Anaconda\\lib\\site-packages\\matplotlib\\cbook\\deprecation.py:107: MatplotlibDeprecationWarning: Adding an axes using the same arguments as a previous axes currently reuses the earlier instance.  In a future version, a new instance will always be created and returned.  Meanwhile, this warning can be suppressed, and the future behavior ensured, by passing a unique label to each axes instance.\n",
      "  warnings.warn(message, mplDeprecation, stacklevel=1)\n"
     ]
    },
    {
     "ename": "ValueError",
     "evalue": "Found array with 0 sample(s) (shape=(0, 2)) while a minimum of 1 is required.",
     "output_type": "error",
     "traceback": [
      "\u001b[1;31m---------------------------------------------------------------------------\u001b[0m",
      "\u001b[1;31mValueError\u001b[0m                                Traceback (most recent call last)",
      "\u001b[1;32m<ipython-input-77-bddb2d7c6b2f>\u001b[0m in \u001b[0;36m<module>\u001b[1;34m()\u001b[0m\n\u001b[1;32m----> 1\u001b[1;33m \u001b[0mtools\u001b[0m\u001b[1;33m.\u001b[0m\u001b[0mestimate_rsrp_on_given_degrees\u001b[0m\u001b[1;33m(\u001b[0m\u001b[0mdf_selected_area\u001b[0m\u001b[1;33m,\u001b[0m \u001b[0mdf_selected_area_curr\u001b[0m\u001b[1;33m,\u001b[0m \u001b[0mdf_affected_area\u001b[0m\u001b[1;33m,\u001b[0m \u001b[0mdf_cell_info\u001b[0m\u001b[1;33m,\u001b[0m \u001b[0mlst_cells_to_tune\u001b[0m\u001b[1;33m,\u001b[0m \u001b[0mlst_degrees\u001b[0m\u001b[1;33m)\u001b[0m\u001b[1;33m\u001b[0m\u001b[0m\n\u001b[0m",
      "\u001b[1;32mE:\\projects\\python\\antenna_optimization\\utils\\tools_new_method.py\u001b[0m in \u001b[0;36mestimate_rsrp_on_given_degrees\u001b[1;34m(df_selected_area, df_selected_area_curr, df_affected_area, df_cell_info, lst_cells_to_tune, lst_degrees, num_liantiao_limit, scope_liantiao, tv_weak_cell, scope_affected, n_neighbors)\u001b[0m\n\u001b[0;32m    336\u001b[0m \u001b[1;33m\u001b[0m\u001b[0m\n\u001b[0;32m    337\u001b[0m         \u001b[0mX_test\u001b[0m \u001b[1;33m=\u001b[0m \u001b[0mpd\u001b[0m\u001b[1;33m.\u001b[0m\u001b[0mDataFrame\u001b[0m\u001b[1;33m(\u001b[0m\u001b[1;33m[\u001b[0m\u001b[0mlon_roll_back\u001b[0m\u001b[1;33m,\u001b[0m \u001b[0mlat_roll_back\u001b[0m\u001b[1;33m]\u001b[0m\u001b[1;33m)\u001b[0m\u001b[1;33m.\u001b[0m\u001b[0mT\u001b[0m\u001b[1;33m\u001b[0m\u001b[0m\n\u001b[1;32m--> 338\u001b[1;33m         \u001b[0my_test\u001b[0m \u001b[1;33m=\u001b[0m \u001b[0mknn\u001b[0m\u001b[1;33m.\u001b[0m\u001b[0mpredict\u001b[0m\u001b[1;33m(\u001b[0m\u001b[0mX_test\u001b[0m\u001b[1;33m)\u001b[0m\u001b[1;33m\u001b[0m\u001b[0m\n\u001b[0m\u001b[0;32m    339\u001b[0m \u001b[1;33m\u001b[0m\u001b[0m\n\u001b[0;32m    340\u001b[0m         \u001b[0mdf_test\u001b[0m \u001b[1;33m=\u001b[0m \u001b[0mdf_points_in\u001b[0m\u001b[1;33m[\u001b[0m\u001b[1;33m[\u001b[0m\u001b[1;34m'longitude'\u001b[0m\u001b[1;33m,\u001b[0m \u001b[1;34m'latitude'\u001b[0m\u001b[1;33m,\u001b[0m \u001b[1;34m's_rsrp'\u001b[0m\u001b[1;33m]\u001b[0m\u001b[1;33m]\u001b[0m\u001b[1;33m.\u001b[0m\u001b[0mcopy\u001b[0m\u001b[1;33m(\u001b[0m\u001b[1;33m)\u001b[0m\u001b[1;33m\u001b[0m\u001b[0m\n",
      "\u001b[1;32mD:\\Anaconda\\lib\\site-packages\\sklearn\\neighbors\\regression.py\u001b[0m in \u001b[0;36mpredict\u001b[1;34m(self, X)\u001b[0m\n\u001b[0;32m    140\u001b[0m             \u001b[0mTarget\u001b[0m \u001b[0mvalues\u001b[0m\u001b[1;33m\u001b[0m\u001b[0m\n\u001b[0;32m    141\u001b[0m         \"\"\"\n\u001b[1;32m--> 142\u001b[1;33m         \u001b[0mX\u001b[0m \u001b[1;33m=\u001b[0m \u001b[0mcheck_array\u001b[0m\u001b[1;33m(\u001b[0m\u001b[0mX\u001b[0m\u001b[1;33m,\u001b[0m \u001b[0maccept_sparse\u001b[0m\u001b[1;33m=\u001b[0m\u001b[1;34m'csr'\u001b[0m\u001b[1;33m)\u001b[0m\u001b[1;33m\u001b[0m\u001b[0m\n\u001b[0m\u001b[0;32m    143\u001b[0m \u001b[1;33m\u001b[0m\u001b[0m\n\u001b[0;32m    144\u001b[0m         \u001b[0mneigh_dist\u001b[0m\u001b[1;33m,\u001b[0m \u001b[0mneigh_ind\u001b[0m \u001b[1;33m=\u001b[0m \u001b[0mself\u001b[0m\u001b[1;33m.\u001b[0m\u001b[0mkneighbors\u001b[0m\u001b[1;33m(\u001b[0m\u001b[0mX\u001b[0m\u001b[1;33m)\u001b[0m\u001b[1;33m\u001b[0m\u001b[0m\n",
      "\u001b[1;32mD:\\Anaconda\\lib\\site-packages\\sklearn\\utils\\validation.py\u001b[0m in \u001b[0;36mcheck_array\u001b[1;34m(array, accept_sparse, dtype, order, copy, force_all_finite, ensure_2d, allow_nd, ensure_min_samples, ensure_min_features, warn_on_dtype, estimator)\u001b[0m\n\u001b[0;32m    460\u001b[0m                              \u001b[1;34m\" minimum of %d is required%s.\"\u001b[0m\u001b[1;33m\u001b[0m\u001b[0m\n\u001b[0;32m    461\u001b[0m                              % (n_samples, shape_repr, ensure_min_samples,\n\u001b[1;32m--> 462\u001b[1;33m                                 context))\n\u001b[0m\u001b[0;32m    463\u001b[0m \u001b[1;33m\u001b[0m\u001b[0m\n\u001b[0;32m    464\u001b[0m     \u001b[1;32mif\u001b[0m \u001b[0mensure_min_features\u001b[0m \u001b[1;33m>\u001b[0m \u001b[1;36m0\u001b[0m \u001b[1;32mand\u001b[0m \u001b[0marray\u001b[0m\u001b[1;33m.\u001b[0m\u001b[0mndim\u001b[0m \u001b[1;33m==\u001b[0m \u001b[1;36m2\u001b[0m\u001b[1;33m:\u001b[0m\u001b[1;33m\u001b[0m\u001b[0m\n",
      "\u001b[1;31mValueError\u001b[0m: Found array with 0 sample(s) (shape=(0, 2)) while a minimum of 1 is required."
     ]
    },
    {
     "data": {
      "image/png": "[encoded data removed]",
      "text/plain": [
       "<Figure size 432x288 with 1 Axes>"
      ]
     },
     "metadata": {},
     "output_type": "display_data"
    }
   ],
   "source": [
    "tools.estimate_rsrp_on_given_degrees(df_selected_area, df_selected_area_curr, df_affected_area, df_cell_info, lst_cells_to_tune, lst_degrees)"
   ]
  },
  {
   "cell_type": "code",
   "execution_count": 63,
   "metadata": {},
   "outputs": [],
   "source": [
    "lst_degree = np.random.uniform(np.pi / 18, np.pi / 3, len(lst_cells_to_tune))  # 确定一个待调整度数\n",
    "cell_id = 6  # 确定某一个联调小区\n",
    "some_cell_mdt = lst_liantiao[cell_id]  # 某一个联调小区 \n",
    "some_cell_sm = tools.mdt2smcl(some_cell_mdt)\n",
    "degree = lst_degree[cell_id]\n",
    "data_path = os.path.join(r\"E:\\data\\01_antenna_self_optimize\\new_method\", some_cell_sm, str(degree)[:5])\n",
    "if not os.path.exists(data_path):\n",
    "    os.makedirs(data_path)\n",
    "    \n",
    "# copy划定区域数据 在副本上将不断进行删减 删除旋转后丧失的用户点 增加旋转后新增的用户点\n",
    "df_selected_area_curr = df_selected_area.copy()\n",
    "del df_selected_area_curr['weak_flag']\n",
    "df_selected_area_curr['is_est'] = 0"
   ]
  },
  {
   "cell_type": "code",
   "execution_count": null,
   "metadata": {},
   "outputs": [],
   "source": [
    "tools.e"
   ]
  },
  {
   "cell_type": "code",
   "execution_count": 64,
   "metadata": {},
   "outputs": [
    {
     "name": "stderr",
     "output_type": "stream",
     "text": [
      "D:\\Anaconda\\lib\\site-packages\\matplotlib\\cbook\\deprecation.py:107: MatplotlibDeprecationWarning: Adding an axes using the same arguments as a previous axes currently reuses the earlier instance.  In a future version, a new instance will always be created and returned.  Meanwhile, this warning can be suppressed, and the future behavior ensured, by passing a unique label to each axes instance.\n",
      "  warnings.warn(message, mplDeprecation, stacklevel=1)\n"
     ]
    },
    {
     "data": {
      "image/png": "[encoded data removed]",
      "text/plain": [
       "<Figure size 432x288 with 1 Axes>"
      ]
     },
     "metadata": {},
     "output_type": "display_data"
    }
   ],
   "source": [
    "# 旋转与拟合\n",
    "\n",
    "##  获得以该小区为主区的用户 仅在影响区域中选\n",
    "df_users = df_affected_area[df_affected_area['s_ci'] == some_cell_mdt]\n",
    "X = df_users[['longitude', 'latitude']]\n",
    "sm_cl_curr = df_cell_info[df_cell_info['ci'] == some_cell_sm]\n",
    "plt.plot(df_users['longitude'], df_users['latitude'], 'ro')\n",
    "plt.title(\"{}天线用户原始分布图分布图\".format(some_cell_sm))\n",
    "plt.savefig(os.path.join(data_path, \"{}天线用户原始分布图分布图.png\".format(some_cell_sm)))\n",
    "\n",
    "## dbscan 聚类 剔除异常的用户点\n",
    "X_std = (X - X.mean()) / X.std()\n",
    "db = DBSCAN(eps=1).fit(X_std)\n",
    "X_ro = X[db.labels_ != -1]\n",
    "plt.plot(X_ro['longitude'], X_ro['latitude'], 'ro')\n",
    "plt.title(\"{}天线用户去除极端样本后分布图分布图\".format(some_cell_sm))\n",
    "plt.savefig(os.path.join(data_path, \"{}天线用户去除极端样本后分布图分布图.png\".format(some_cell_sm)))\n",
    "\n",
    "## 旋转区域\n",
    "lon_roll, lat_roll = tools.roll_points(X_ro['longitude'], X_ro['latitude'],\n",
    "                                 sm_cl_curr['longitude'].values[0],\n",
    "                                 sm_cl_curr['latitude'].values[0],\n",
    "                                 degree)\n",
    "\n",
    "## 拟合旋转后的区域\n",
    "points = np.array([np.array([roll[0], roll[1]]) for roll in zip(lon_roll, lat_roll)])\n",
    "convex_hull = tools.MinimumBoundingPolygon(points)\n",
    "bounds = convex_hull.findSmallestPolygon()\n",
    "convex_hull.plot_scatter_and_bounds(bounds)\n",
    "plt.title(\"{}天线旋转{}后覆盖区域拟合图\".format(some_cell_sm, round(degree,3)))\n",
    "plt.savefig(os.path.join(data_path, \"{}天线旋转{}弧度后覆盖区域拟合图.png\".format(some_cell_sm, round(degree, 3))))\n",
    "\n",
    "## 绘制旋转前后对比图\n",
    "fig = plt.figure(num=1, figsize=(15, 15), dpi=80)\n",
    "ax = fig.add_subplot(1,1,1)\n",
    "x_min = min(min(lon_roll), X_ro['longitude'].min()) - 0.0005\n",
    "x_max = max(max(lon_roll), X_ro['longitude'].max()) + 0.0005\n",
    "y_min = min(min(lat_roll), X_ro['latitude'].min()) - 0.0005\n",
    "y_max = max(max(lat_roll), X_ro['latitude'].max()) + 0.0005\n",
    "plt.xlim(x_min, x_max)\n",
    "plt.ylim(y_min, y_max)\n",
    "ax.plot(X_ro['longitude'], X_ro['latitude'], 'ko', label=\"before\")\n",
    "ax.annotate(r'antenna position',\n",
    "            xy=(sm_cl_curr['longitude'], sm_cl_curr['latitude']),\n",
    "            xycoords='data',\n",
    "            xytext=(+10, +30), textcoords='offset points',\n",
    "            fontsize=16,\n",
    "            arrowprops=dict(arrowstyle=\"->\",\n",
    "                            connectionstyle=\"arc3,rad=.2\"))\n",
    "ax.plot(lon_roll, lat_roll, 'ro', label=\"after\")\n",
    "convex_hull.plot_bounds(bounds)\n",
    "ax.legend(loc='upper left')\n",
    "plt.title(\"{}天线旋转{}弧度后前后示意图\".format(some_cell_mdt, round(degree, 4)))\n",
    "plt.savefig(os.path.join(data_path, \"{}天线旋转{}弧度后前后示意图.png\".format(some_cell_sm, round(degree, 4))))\n",
    "\n",
    "\n",
    "# 判断旋转后拟合区域包含的用户点\n",
    "df_somepoints = df_selected_area.copy()\n",
    "df_somepoints['is_inside'] = convex_hull.point_in_polygon(df_somepoints[['longitude', 'latitude']], bounds)\n",
    "df_points_in = df_somepoints[df_somepoints['is_inside'] == True]\n",
    "\n",
    "# 基于KNN回归估算在新区域用户点的值\n",
    "\"\"\"\n",
    "#     创建划定区域数据的副本\n",
    "#     删除无用变量：weak_flag\n",
    "#     创建指示变量：is_est 表示该用户点的rsrp值是否是估计的 1：估计 0：非估计值\n",
    "#     对于那些原本在该联调小区覆盖范围，旋转后不在的用户点，在副本中直接将该用户点删除，表示该点已经不再此联调小区的覆盖范围\n",
    "#     基于当前调整天线所覆盖的用户点建立KNN回归模型\n",
    "#     将上一步确定在新区域的用点反向旋转相同的度数后，带入KNN回归模型，计算估计的rsrp值\n",
    "#     构建df_test数据集 包含此联调小区覆盖范围下，各位置估计的rsrp值\n",
    "#     将df_test追加到副本数据中 表示旋转后新增的用户点\n",
    "\"\"\"\n",
    "\n",
    "# 在当前联调小区内 不在旋转后该天线覆盖区域的用户点其对应的rsrp值应重置为nan\n",
    "ix_to_del = df_somepoints[(df_somepoints.is_inside == False) & (df_somepoints.s_ci == some_cell_mdt)].index\n",
    "df_selected_area_curr = df_selected_area_curr.drop(index=ix_to_del)\n",
    "X_train = df_users[['longitude', 'latitude']]\n",
    "y_train = df_users['s_rsrp']\n",
    "knn = KNeighborsRegressor(n_neighbors=n_neighbors)\n",
    "knn.fit(X_train, y_train)\n",
    "\n",
    "lon_roll_back, lat_roll_back = tools.roll_points(df_points_in['longitude'],\n",
    "                                                 df_points_in['latitude'],\n",
    "                                                 sm_cl_curr['longitude'].values[0],\n",
    "                                                 sm_cl_curr['latitude'].values[0],\n",
    "                                                 -degree)\n",
    "\n",
    "X_test = pd.DataFrame([lon_roll_back, lat_roll_back]).T\n",
    "y_test = knn.predict(X_test)\n",
    "\n",
    "df_test = df_points_in[['longitude', 'latitude', 's_rsrp']].copy()\n",
    "df_test.index = range(len(df_selected_area_curr), len(df_selected_area_curr) + len(df_test))\n",
    "\n",
    "df_test['s_rsrp'] = y_test\n",
    "df_test['s_ci'] = some_cell_sm\n",
    "df_test['is_est'] = 1\n",
    "df_selected_area_curr = df_selected_area_curr.append(df_test, sort=True)"
   ]
  },
  {
   "cell_type": "markdown",
   "metadata": {},
   "source": [
    "# 判断旋转后拟合区域包含的用户点"
   ]
  },
  {
   "cell_type": "code",
   "execution_count": 8,
   "metadata": {},
   "outputs": [],
   "source": [
    "# 基于KNN回归估算在新区域用户点的值\n",
    "\n",
    "#     创建划定区域数据的副本\n",
    "#     删除无用变量：weak_flag\n",
    "#     创建指示变量：is_est 表示该用户点的rsrp值是否是估计的 1：估计 0：非估计值\n",
    "#     对于那些原本在该联调小区覆盖范围，旋转后不在的用户点，在副本中直接将该用户点删除，表示该点已经不再此联调小区的覆盖范围\n",
    "#     基于当前调整天线所覆盖的用户点建立KNN回归模型\n",
    "#     将上一步确定在新区域的用点反向旋转相同的度数后，带入KNN回归模型，计算估计的rsrp值\n",
    "#     构建df_test数据集 包含此联调小区覆盖范围下，各位置估计的rsrp值\n",
    "#     将df_test追加到副本数据中 表示旋转后新增的用户点\n",
    "\n",
    "# 在当前联调小区内 不在旋转后该天线覆盖区域的用户点其对应的rsrp值应重置为nan\n",
    "ix_to_del = df_somepoints[(df_somepoints.is_inside == False) & (df_somepoints.s_ci == some_cell_mdt)].index\n",
    "df_selected_area_curr = df_selected_area_curr.drop(index=ix_to_del)\n",
    "X_train = df_users[['longitude', 'latitude']]\n",
    "y_train = df_users['s_rsrp']\n",
    "knn = KNeighborsRegressor(n_neighbors=10)\n",
    "knn.fit(X_train, y_train)\n",
    "\n",
    "lon_roll_back, lat_roll_back = tools.roll_points(df_points_in['longitude'],\n",
    "                                                 df_points_in['latitude'],\n",
    "                                                 sm_cl_curr['longitude'].values[0],\n",
    "                                                 sm_cl_curr['latitude'].values[0],\n",
    "                                                 -degree)\n",
    "\n",
    "X_test = pd.DataFrame([lon_roll_back, lat_roll_back]).T\n",
    "y_test = knn.predict(X_test)\n",
    "\n",
    "df_test = df_points_in[['longitude', 'latitude', 's_rsrp']].copy()\n",
    "df_test.index = range(len(df_selected_area_curr), len(df_selected_area_curr) + len(df_test))\n",
    "\n",
    "df_test['s_rsrp'] = y_test\n",
    "df_test['s_ci'] = some_cell_sm\n",
    "df_test['is_est'] = 1\n",
    "df_selected_area_curr = df_selected_area_curr.append(df_test, sort=True)"
   ]
  },
  {
   "cell_type": "markdown",
   "metadata": {},
   "source": [
    "# 基于KNN回归估算在新区域用户点的值"
   ]
  },
  {
   "cell_type": "markdown",
   "metadata": {},
   "source": [
    "1. 创建划定区域数据的副本\n",
    "2. 删除无用变量：weak_flag\n",
    "3. 创建指示变量：is_est 表示该用户点的rsrp值是否是估计的 1：估计  0：非估计值\n",
    "4. 对于那些原本在该联调小区覆盖范围，旋转后不在的用户点，在副本中直接将该用户点删除，表示该点已经不再此联调小区的覆盖范围\n",
    "5. 基于当前调整天线所覆盖的用户点建立KNN回归模型\n",
    "6. 将上一步确定在新区域的用点反向旋转相同的度数后，带入KNN回归模型，计算估计的rsrp值\n",
    "7. 构建df_test数据集 包含此联调小区覆盖范围下，各位置估计的rsrp值 \n",
    "8. 将df_test追加到副本数据中 表示旋转后新增的用户点"
   ]
  },
  {
   "cell_type": "code",
   "execution_count": 336,
   "metadata": {},
   "outputs": [],
   "source": [
    "# copy划定区域数据 在副本上将不断进行删减 删除旋转后丧失的用户点 增加旋转后新增的用户点\n",
    "df_selected_area_curr = df_selected_area.copy()\n",
    "del df_selected_area_curr['weak_flag']\n",
    "df_selected_area_curr['is_est'] = 0"
   ]
  },
  {
   "cell_type": "code",
   "execution_count": 337,
   "metadata": {},
   "outputs": [],
   "source": [
    "# 在当前联调小区内 不在旋转后该天线覆盖区域的用户点其对应的rsrp值应重置为nan\n",
    "ix_to_del = df_somepoints[(df_somepoints.is_inside == False) & (df_somepoints.s_ci == some_cell_mdt)].index\n",
    "df_selected_area_curr = df_selected_area_curr.drop(index=ix_to_del)"
   ]
  },
  {
   "cell_type": "code",
   "execution_count": 338,
   "metadata": {},
   "outputs": [],
   "source": [
    "X_train = df_users[['longitude', 'latitude']]\n",
    "y_train = df_users['s_rsrp']\n",
    "knn = KNeighborsRegressor(n_neighbors=10)\n",
    "knn.fit(X_train, y_train)\n",
    "\n",
    "lon_roll_back, lat_roll_back = tools.roll_points(df_points_in['longitude'],\n",
    "                                                 df_points_in['latitude'],\n",
    "                                                 sm_cl_curr['longitude'].values[0],\n",
    "                                                 sm_cl_curr['latitude'].values[0],\n",
    "                                                 -degree)\n",
    "\n",
    "X_test = pd.DataFrame([lon_roll_back, lat_roll_back]).T\n",
    "y_test = knn.predict(X_test)\n",
    "\n",
    "df_test = df_points_in[['longitude', 'latitude', 's_rsrp']].copy()\n",
    "df_test.index = range(len(df_selected_area_curr), len(df_selected_area_curr) + len(df_test))\n",
    "\n",
    "df_test['s_rsrp'] = y_test\n",
    "df_test['s_ci'] = some_cell_sm\n",
    "df_test['is_est'] = 1\n",
    "df_selected_area_curr = df_selected_area_curr.append(df_test, sort=True)"
   ]
  },
  {
   "cell_type": "code",
   "execution_count": 317,
   "metadata": {},
   "outputs": [],
   "source": []
  },
  {
   "cell_type": "code",
   "execution_count": 326,
   "metadata": {},
   "outputs": [],
   "source": []
  },
  {
   "cell_type": "code",
   "execution_count": null,
   "metadata": {},
   "outputs": [],
   "source": []
  }
 ],
 "metadata": {
  "hide_input": false,
  "kernelspec": {
   "display_name": "Python 3",
   "language": "python",
   "name": "python3"
  },
  "language_info": {
   "codemirror_mode": {
    "name": "ipython",
    "version": 3
   },
   "file_extension": ".py",
   "mimetype": "text/x-python",
   "name": "python",
   "nbconvert_exporter": "python",
   "pygments_lexer": "ipython3",
   "version": "3.6.5"
  },
  "toc": {
   "base_numbering": 1,
   "nav_menu": {},
   "number_sections": true,
   "sideBar": true,
   "skip_h1_title": false,
   "title_cell": "Table of Contents",
   "title_sidebar": "Contents",
   "toc_cell": false,
   "toc_position": {},
   "toc_section_display": true,
   "toc_window_display": false
  },
  "varInspector": {
   "cols": {
    "lenName": 16,
    "lenType": 16,
    "lenVar": 40
   },
   "kernels_config": {
    "python": {
     "delete_cmd_postfix": "",
     "delete_cmd_prefix": "del ",
     "library": "var_list.py",
     "varRefreshCmd": "print(var_dic_list())"
    },
    "r": {
     "delete_cmd_postfix": ") ",
     "delete_cmd_prefix": "rm(",
     "library": "var_list.r",
     "varRefreshCmd": "cat(var_dic_list()) "
    }
   },
   "position": {
    "height": "402px",
    "left": "1498px",
    "right": "72px",
    "top": "121px",
    "width": "350px"
   },
   "types_to_exclude": [
    "module",
    "function",
    "builtin_function_or_method",
    "instance",
    "_Feature"
   ],
   "window_display": false
  }
 },
 "nbformat": 4,
 "nbformat_minor": 2
}
