{
 "cells": [
  {
   "cell_type": "code",
   "execution_count": 268,
   "metadata": {},
   "outputs": [
    {
     "name": "stdout",
     "output_type": "stream",
     "text": [
      "Populating the interactive namespace from numpy and matplotlib\n",
      "The autoreload extension is already loaded. To reload it, use:\n",
      "  %reload_ext autoreload\n"
     ]
    }
   ],
   "source": [
    "%pylab inline\n",
    "%load_ext autoreload\n",
    "%autoreload 2\n",
    "\n",
    "import psycopg2\n",
    "import pandas as pd\n",
    "import numpy as np\n",
    "import os\n",
    "import matplotlib.pyplot as plt\n",
    "from sklearn.cluster import DBSCAN\n",
    "from sklearn.neighbors import KNeighborsRegressor\n",
    "\n",
    "from antenna_optimization.utils import tools_new_method as tools\n",
    "plt.rcParams['font.sans-serif'] = ['SimHei']  # 步骤一（替换sans-serif字体）\n",
    "plt.rcParams['axes.unicode_minus'] = False   # 步骤二（解决坐标轴负数的负号显示问题）"
   ]
  },
  {
   "cell_type": "markdown",
   "metadata": {},
   "source": [
    "# 数据获取"
   ]
  },
  {
   "cell_type": "code",
   "execution_count": 13,
   "metadata": {},
   "outputs": [],
   "source": [
    "# 连接数据库\n",
    "conn = psycopg2.connect(database='feeder', user='feeder_dev',\n",
    "                        password='feeder_dev', host='192.168.101.66',\n",
    "                        port='5432')\n",
    "\n",
    "#query = \"SELECT * FROM test_mdt WHERE longitude=119.30127 AND latitude = 26.1057\"\n",
    "#mdt = pd.read_sql_query(query, conn)\n",
    "#mdt = mdt.sort_values(['s_ci'])\n",
    "query1 = \"SELECT ci, longitude, latitude FROM sm_cl_location\"\n",
    "df_cell_info = pd.read_sql_query(query1, conn)\n",
    "\n",
    "\n"
   ]
  },
  {
   "cell_type": "markdown",
   "metadata": {},
   "source": [
    "# 确定三大区域"
   ]
  },
  {
   "cell_type": "code",
   "execution_count": 309,
   "metadata": {},
   "outputs": [
    {
     "name": "stderr",
     "output_type": "stream",
     "text": [
      "D:\\Anaconda\\lib\\site-packages\\numpy\\lib\\arraysetops.py:472: FutureWarning: elementwise comparison failed; returning scalar instead, but in the future will perform elementwise comparison\n",
      "  mask |= (ar1 == a)\n"
     ]
    }
   ],
   "source": [
    "# 选取划定区域 region_1 经度最小值 最大值 维度最小值 最大值\n",
    "region_1 = [119.30127, 119.33075, 26.1057, 26.13431]\n",
    "#query = \"SELECT s_ci, longitude, latitude, s_rsrp FROM test_mdt WHERE\\\n",
    "#        (longitude BETWEEN {} AND {}) AND (latitude BETWEEN {} AND {})\\\n",
    "#            \".format(region_1[0], region_1[1], region_1[2], region_1[3])\n",
    "\n",
    "#df_selected_area = pd.read_sql_query(query, conn)\n",
    "#df_selected_area.to_csv(r\"E:\\01_work_documents\\2018-08\\df_selected_area.csv\")\n",
    "df_selected_area = pd.read_csv(r\"E:\\01_work_documents\\2018-08\\df_selected_area.csv\",\n",
    "                               index_col=0)\n",
    "\n",
    "\n",
    "# 仅保留用户数大于500的小区\n",
    "df_selected_area.groupby(['s_ci']).size().sort_values()\n",
    "a = df_selected_area.groupby(['s_ci']).size()\n",
    "b = a[a > 500].index\n",
    "df_selected_area = df_selected_area[df_selected_area['s_ci'].isin(b)]\n",
    "\n",
    "# 确定划定区域中的弱覆盖小区\n",
    "df_selected_area['weak_flag'] =  df_selected_area['s_rsrp'].apply(lambda x: 1 if x < -120 else 0)\n",
    "a1 = df_selected_area.groupby(['s_ci']).weak_flag.mean()\n",
    "a2 = a1[a1 > 0.005]\n",
    "lst_weak_cell_mdt = a2.index.tolist()\n",
    "lst_weak_cell_sm = [tools.mdt2smcl(i) for i in lst_weak_cell_mdt]\n",
    "df_weak_cells = df_selected_area[df_selected_area['s_ci'].isin(lst_weak_cell_mdt)]\n",
    "\n",
    "# 获取联调区域 region_2\n",
    "lat_db = df_weak_cells['latitude'].min()\n",
    "lat_ub = df_weak_cells['latitude'].max()\n",
    "lon_lb = df_weak_cells['longitude'].min()\n",
    "lon_rb = df_weak_cells['longitude'].max()\n",
    "region_2 = [lon_lb, lon_rb, lat_db, lat_ub]\n",
    "cond1 = df_selected_area['longitude'].between(region_2[0], region_2[1])\n",
    "cond2 = df_selected_area['latitude'].between(region_2[2], region_2[3])\n",
    "df_pc_liantiao = df_selected_area[cond1 & cond2]\n",
    "\n",
    "\n",
    "# 获取受影响区域 region_3\n",
    "region_3 = [lon_lb - tools.km2lon(0.5, (lat_db + lat_ub) / 2),\n",
    "            lon_rb + tools.km2lon(0.5, (lat_db + lat_ub) / 2),\n",
    "            lat_db - tools.km2lat(0.5),\n",
    "            lat_ub + tools.km2lat(0.5)]\n",
    "\n",
    "cond1 = df_selected_area['longitude'].between(region_3[0], region_3[1])\n",
    "cond2 = df_selected_area['latitude'].between(region_3[2], region_3[3])\n",
    "df_affected_area = df_selected_area[cond1 & cond2]\n",
    "\n",
    "# 仅选取用户数排名后十的小区\n",
    "a1 = df_pc_liantiao['s_ci'].value_counts() / len(df_pc_liantiao)\n",
    "a1 = a1.sort_values(ascending=True)\n",
    "lst_liantiao = a1[:10].index.tolist()"
   ]
  },
  {
   "cell_type": "markdown",
   "metadata": {},
   "source": [
    "# 调整"
   ]
  },
  {
   "cell_type": "code",
   "execution_count": null,
   "metadata": {},
   "outputs": [],
   "source": [
    "## 确定待调小区\n",
    "\n",
    "lst_degree = np.random.uniform(np.pi / 18, np.pi / 3, 10)  # 待调整度数\n",
    "cell_id = 6  # 确定某一个联调小区\n",
    "some_cell_mdt = lst_liantiao[cell_id]  # 某一个联调小区 \n",
    "some_cell_sm = tools.mdt2smcl(some_cell_mdt)\n",
    "degree = lst_degree[cell_id]\n",
    "data_path = os.path.join(r\"E:\\data\\01_antenna_self_optimize\\new_method\", some_cell_sm, str(degree)[:5])\n",
    "if not os.path.exists(data_path):\n",
    "    os.makedirs(data_path)"
   ]
  },
  {
   "cell_type": "code",
   "execution_count": null,
   "metadata": {},
   "outputs": [],
   "source": [
    "## 旋转与拟合\n",
    "\n",
    "# 获得以该小区为主区的用户 仅在影响区域中选\n",
    "df_users = df_affected_area[df_affected_area['s_ci'] == some_cell_mdt]\n",
    "X = df_users[['longitude', 'latitude']]\n",
    "sm_cl_curr = df_cell_info[df_cell_info['ci'] == some_cell_sm]\n",
    "plt.plot(df_users['longitude'], df_users['latitude'], 'ro')\n",
    "plt.title(\"{}天线用户原始分布图分布图\".format(some_cell_sm))\n",
    "plt.savefig(os.path.join(data_path, \"{}天线用户原始分布图分布图.png\".format(some_cell_sm)))\n",
    "\n",
    "# dbscan 聚类 剔除异常的用户点\n",
    "X_std = (X - X.mean()) / X.std()\n",
    "db = DBSCAN(eps=1).fit(X_std)\n",
    "X_ro = X[db.labels_ != -1]\n",
    "plt.plot(X_ro['longitude'], X_ro['latitude'], 'ro')\n",
    "plt.title(\"{}天线用户去除极端样本后分布图分布图\".format(some_cell_sm))\n",
    "plt.savefig(os.path.join(data_path, \"{}天线用户去除极端样本后分布图分布图.png\".format(some_cell_sm)))\n",
    "\n",
    "# 旋转区域\n",
    "lon_roll, lat_roll = tools.roll_points(X_ro['longitude'], X_ro['latitude'],\n",
    "                                 sm_cl_curr['longitude'].values[0],\n",
    "                                 sm_cl_curr['latitude'].values[0],\n",
    "                                 degree)\n",
    "\n",
    "# 拟合旋转后的区域\n",
    "points = np.array([np.array([roll[0], roll[1]]) for roll in zip(lon_roll, lat_roll)])\n",
    "convex_hull = tools.MinimumBoundingPolygon(points)\n",
    "bounds = convex_hull.findSmallestPolygon()\n",
    "convex_hull.plot_scatter_and_bounds(bounds)\n",
    "plt.title(\"{}天线旋转{}后覆盖区域拟合图\".format(some_cell_sm, round(degree,3)))\n",
    "plt.savefig(os.path.join(data_path, \"{}天线旋转{}弧度后覆盖区域拟合图.png\".format(some_cell_sm, round(degree, 3))))\n",
    "\n",
    "# 绘制旋转前后对比图\n",
    "fig = plt.figure(num=1, figsize=(15, 15), dpi=80)\n",
    "\n",
    "ax = fig.add_subplot(1,1,1)\n",
    "\n",
    "x_min = min(min(lon_roll), X_ro['longitude'].min()) - 0.0005\n",
    "x_max = max(max(lon_roll), X_ro['longitude'].max()) + 0.0005\n",
    "y_min = min(min(lat_roll), X_ro['latitude'].min()) - 0.0005\n",
    "y_max = max(max(lat_roll), X_ro['latitude'].max()) + 0.0005\n",
    "plt.xlim(x_min, x_max)\n",
    "plt.ylim(y_min, y_max)\n",
    "\n",
    "ax.plot(X_ro['longitude'], X_ro['latitude'], 'ko', label=\"before\")\n",
    "ax.annotate(r'antenna position',\n",
    "            xy=(sm_cl_curr['longitude'], sm_cl_curr['latitude']),\n",
    "            xycoords='data',\n",
    "            xytext=(+10, +30), textcoords='offset points',\n",
    "            fontsize=16,\n",
    "            arrowprops=dict(arrowstyle=\"->\",\n",
    "                            connectionstyle=\"arc3,rad=.2\"))\n",
    "\n",
    "ax.plot(lon_roll, lat_roll, 'ro', label=\"after\")\n",
    "# ax.plot(df_mdt_roll['longitude'], df_mdt_roll['latitude'],\n",
    "#         'go', label=\"new\", alpha=0.25)\n",
    "convex_hull.plot_bounds(bounds)\n",
    "ax.legend(loc='upper left')\n",
    "plt.title(\"{}天线旋转{}弧度后前后示意图\".format(some_cell_mdt, round(degree, 4)))\n",
    "plt.savefig(os.path.join(data_path, \"{}天线旋转{}弧度后前后示意图.png\".format(some_cell_sm, round(degree, 4))))\n",
    "plt.show()"
   ]
  },
  {
   "cell_type": "markdown",
   "metadata": {},
   "source": [
    "# 判断旋转后拟合区域包含的用户点"
   ]
  },
  {
   "cell_type": "code",
   "execution_count": 255,
   "metadata": {},
   "outputs": [],
   "source": [
    "df_somepoints = df_selected_area.copy()\n",
    "# df_somepoints = df_somepoints.sample(200000)\n",
    "# df_somepoints.index = range(0, len(df_somepoints))\n",
    "df_somepoints['is_inside'] = convex_hull.point_in_polygon(df_somepoints[['longitude', 'latitude']], bounds)"
   ]
  },
  {
   "cell_type": "code",
   "execution_count": 279,
   "metadata": {},
   "outputs": [
    {
     "data": {
      "text/plain": [
       "[<matplotlib.lines.Line2D at 0x1dbee4b66d8>]"
      ]
     },
     "execution_count": 279,
     "metadata": {},
     "output_type": "execute_result"
    },
    {
     "data": {
      "image/png": "[encoded data removed]",
      "text/plain": [
       "<Figure size 432x288 with 1 Axes>"
      ]
     },
     "metadata": {},
     "output_type": "display_data"
    }
   ],
   "source": [
    "# 测试数据 计算bounds\n",
    "# x = np.random.randint(0, 300, 300)\n",
    "# y = np.random.randint(0, 125, 300)\n",
    "# ps = np.array([(x[i], y[i]) for i in range(300)])\n",
    "# convex_hull = tools.MinimumBoundingPolygon(ps)\n",
    "# bounds = convex_hull.findSmallestPolygon()\n",
    "# convex_hull.plot_scatter_and_bounds(bounds)\n",
    "# 验证数据\n",
    "# x = np.random.randint(0, 500, 200)\n",
    "# y = np.random.randint(0, 400, 200)\n",
    "# ps_vert = np.array([(x[i], y[i]) for i in range(200)])\n",
    "# df_somepoints = pd.DataFrame(ps_vert, columns=['longitude', 'latitude'])\n",
    "# df_somepoints['is_inside'] = convex_hull.point_in_polygon(df_somepoints.values, bounds)\n",
    "\n",
    "# convex_hull.plot_scatter_and_bounds(bounds)\n",
    "# plt.plot(df_somepoints['longitude'],df_somepoints['latitude'], 'go')\n",
    "df_points_in = df_somepoints[df_somepoints['is_inside'] == True]\n",
    "convex_hull.plot_bounds(bounds)\n",
    "# plt.plot(df_somepoints['longitude'],df_somepoints['latitude'], 'bo')\n",
    "plt.plot(df_points_in['longitude'],df_points_in['latitude'], 'ro')\n"
   ]
  },
  {
   "cell_type": "markdown",
   "metadata": {},
   "source": [
    "# 基于KNN回归估算在新区域用户点的值"
   ]
  },
  {
   "cell_type": "markdown",
   "metadata": {},
   "source": [
    "1. 创建划定区域数据的副本\n",
    "2. 删除无用变量：weak_flag\n",
    "3. 创建指示变量：is_est 表示该用户点的rsrp值是否是估计的 1：估计  0：非估计值\n",
    "4. 对于那些原本在该联调小区覆盖范围，旋转后不在的用户点，在副本中直接将该用户点删除，表示该点已经不再此联调小区的覆盖范围\n",
    "5. 基于当前调整天线所覆盖的用户点建立KNN回归模型\n",
    "6. 将上一步确定在新区域的用点反向旋转相同的度数后，带入KNN回归模型，计算估计的rsrp值\n",
    "7. 构建df_test数据集 包含此联调小区覆盖范围下，各位置估计的rsrp值 \n",
    "8. 将df_test追加到副本数据中 表示旋转后新增的用户点"
   ]
  },
  {
   "cell_type": "code",
   "execution_count": 336,
   "metadata": {},
   "outputs": [],
   "source": [
    "# copy划定区域数据 在副本上将不断进行删减 删除旋转后丧失的用户点 增加旋转后新增的用户点\n",
    "df_selected_area_curr = df_selected_area.copy()\n",
    "del df_selected_area_curr['weak_flag']\n",
    "df_selected_area_curr['is_est'] = 0"
   ]
  },
  {
   "cell_type": "code",
   "execution_count": 337,
   "metadata": {},
   "outputs": [],
   "source": [
    "# 在当前联调小区内 不在旋转后该天线覆盖区域的用户点其对应的rsrp值应重置为nan\n",
    "ix_to_del = df_somepoints[(df_somepoints.is_inside == False) & (df_somepoints.s_ci == some_cell_mdt)].index\n",
    "df_selected_area_curr = df_selected_area_curr.drop(index=ix_to_del)"
   ]
  },
  {
   "cell_type": "code",
   "execution_count": 338,
   "metadata": {},
   "outputs": [],
   "source": [
    "X_train = df_users[['longitude', 'latitude']]\n",
    "y_train = df_users['s_rsrp']\n",
    "knn = KNeighborsRegressor(n_neighbors=10)\n",
    "knn.fit(X_train, y_train)\n",
    "\n",
    "lon_roll_back, lat_roll_back = tools.roll_points(df_points_in['longitude'],\n",
    "                                                 df_points_in['latitude'],\n",
    "                                                 sm_cl_curr['longitude'].values[0],\n",
    "                                                 sm_cl_curr['latitude'].values[0],\n",
    "                                                 -degree)\n",
    "\n",
    "X_test = pd.DataFrame([lon_roll_back, lat_roll_back]).T\n",
    "y_test = knn.predict(X_test)\n",
    "\n",
    "df_test = df_points_in[['longitude', 'latitude', 's_rsrp']].copy()\n",
    "df_test.index = range(len(df_selected_area_curr), len(df_selected_area_curr) + len(df_test))\n",
    "\n",
    "df_test['s_rsrp'] = y_test\n",
    "df_test['s_ci'] = some_cell_sm\n",
    "df_test['is_est'] = 1\n",
    "df_selected_area_curr = df_selected_area_curr.append(df_test, sort=True)"
   ]
  },
  {
   "cell_type": "code",
   "execution_count": 317,
   "metadata": {},
   "outputs": [],
   "source": []
  },
  {
   "cell_type": "code",
   "execution_count": 326,
   "metadata": {},
   "outputs": [],
   "source": []
  },
  {
   "cell_type": "code",
   "execution_count": null,
   "metadata": {},
   "outputs": [],
   "source": []
  }
 ],
 "metadata": {
  "hide_input": false,
  "kernelspec": {
   "display_name": "Python 3",
   "language": "python",
   "name": "python3"
  },
  "language_info": {
   "codemirror_mode": {
    "name": "ipython",
    "version": 3
   },
   "file_extension": ".py",
   "mimetype": "text/x-python",
   "name": "python",
   "nbconvert_exporter": "python",
   "pygments_lexer": "ipython3",
   "version": "3.6.5"
  },
  "toc": {
   "base_numbering": 1,
   "nav_menu": {},
   "number_sections": true,
   "sideBar": true,
   "skip_h1_title": false,
   "title_cell": "Table of Contents",
   "title_sidebar": "Contents",
   "toc_cell": false,
   "toc_position": {},
   "toc_section_display": true,
   "toc_window_display": false
  },
  "varInspector": {
   "cols": {
    "lenName": 16,
    "lenType": 16,
    "lenVar": 40
   },
   "kernels_config": {
    "python": {
     "delete_cmd_postfix": "",
     "delete_cmd_prefix": "del ",
     "library": "var_list.py",
     "varRefreshCmd": "print(var_dic_list())"
    },
    "r": {
     "delete_cmd_postfix": ") ",
     "delete_cmd_prefix": "rm(",
     "library": "var_list.r",
     "varRefreshCmd": "cat(var_dic_list()) "
    }
   },
   "position": {
    "height": "402px",
    "left": "1498px",
    "right": "72px",
    "top": "121px",
    "width": "350px"
   },
   "types_to_exclude": [
    "module",
    "function",
    "builtin_function_or_method",
    "instance",
    "_Feature"
   ],
   "window_display": false
  }
 },
 "nbformat": 4,
 "nbformat_minor": 2
}
