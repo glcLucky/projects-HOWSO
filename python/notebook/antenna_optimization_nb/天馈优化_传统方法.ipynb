{
 "cells": [
  {
   "cell_type": "markdown",
   "metadata": {},
   "source": [
    "# 导入相关模块"
   ]
  },
  {
   "cell_type": "code",
   "execution_count": 2,
   "metadata": {},
   "outputs": [
    {
     "name": "stdout",
     "output_type": "stream",
     "text": [
      "Populating the interactive namespace from numpy and matplotlib\n",
      "The autoreload extension is already loaded. To reload it, use:\n",
      "  %reload_ext autoreload\n"
     ]
    }
   ],
   "source": [
    "%pylab inline\n",
    "%load_ext autoreload\n",
    "%autoreload 2\n",
    "\n",
    "import pandas as pd\n",
    "import numpy as np \n",
    "import antenna_optimization as ant_opt"
   ]
  },
  {
   "cell_type": "markdown",
   "metadata": {},
   "source": [
    "# 读取数据"
   ]
  },
  {
   "cell_type": "markdown",
   "metadata": {},
   "source": [
    "## 读取ott数据"
   ]
  },
  {
   "cell_type": "code",
   "execution_count": 3,
   "metadata": {},
   "outputs": [],
   "source": [
    "data_OTT_f = pd.read_csv(r\"E:\\01_work_documents\\2018-07\\train_projects\\step0422\\data\\plan_ott_data\\data_OTT_f_subset.csv\")\n",
    "a1 = [\"rpt_time\", \"s_ci\",\"longitude\",\"latitude\",\"s_rsrp\",\"s_enb_id\",\"s_sector\",\"s_earfc\",\"s_pci\"]\n",
    "a2 = [\"n{}_rsrp\".format(i) for i in range(1,10)]\n",
    "a3 = [\"n{}_earfcn\".format(i) for i in range(1,10)]\n",
    "a4 = [\"n{}_pci\".format(i) for i in range(1,10)]\n",
    "a5 = [\"n{}_ci\".format(i) for i in range(1,10)]\n",
    "a = a1 + a2 + a3 + a4 + a5\n",
    "data_OTT_f.columns = a\n",
    "data_OTT_f = data_OTT_f.drop(a5,axis=1)"
   ]
  },
  {
   "cell_type": "markdown",
   "metadata": {},
   "source": [
    "## 读取工参数据"
   ]
  },
  {
   "cell_type": "code",
   "execution_count": 4,
   "metadata": {},
   "outputs": [],
   "source": [
    "sm_cl = pd.read_csv(r\"E:\\01_work_documents\\2018-07\\train_projects\\step0422\\data\\sm_cl_location\\sm_cl_location.csv\",header=None)\n",
    "sm_cl.columns = [\"id\",\"ci\",\"cell_name\",\"site_name\",\"enodeb_id\",\"area\",\"grid\",\"local_cell_id\",\"cell_coveage\" ,\"mstxpwr\",\"reference_signal\", \"port_signal_ratio\",\"hannel_number\", \"cover_type\",\"overlay_scene\",\"vender\", \"longitude\", \"latitude\",\"working_band\",\"pitching_angle\",\"azimuth\",\"groud_height\",\"horizontal_beam_feat\" ,\"vertical_beam_feat\", \"antenna_model\" , \"m_down_tilt\",\"down_tilt\",\"antenna_type\",\"antenna_gain\",\"e_down_tilt\" ,\"street\",\"city\",\"county\",\"pci\",\"temp\"]"
   ]
  },
  {
   "cell_type": "markdown",
   "metadata": {},
   "source": [
    "# 确定问题小区"
   ]
  },
  {
   "cell_type": "code",
   "execution_count": 5,
   "metadata": {},
   "outputs": [],
   "source": [
    "new_table = pd.read_excel(r\"E:\\01_work_documents\\2018-07\\train_projects\\step0422\\data\\table\\test_new.xlsx\")\n",
    "problem_cell = new_table['CI'].values.tolist() # 问题小区列表\n",
    "# problem_cell = sm_cl[sm_cl.ci.isin(problem_cell)][['ci', 'longitude', 'latitude']]\n",
    "# 这里的id是为了方便获得各邻区eci后merge回去\n",
    "data_OTT = data_OTT_f[data_OTT_f.s_ci.isin(problem_cell)].reset_index().rename(columns={'index': 'id'})"
   ]
  },
  {
   "cell_type": "markdown",
   "metadata": {},
   "source": [
    "# 确定联调小区"
   ]
  },
  {
   "cell_type": "code",
   "execution_count": 6,
   "metadata": {},
   "outputs": [],
   "source": [
    "liantiao_cell = ant_opt.api.liantiao_cell(data_OTT, problem_cell, sm_cl, log=False)"
   ]
  },
  {
   "cell_type": "markdown",
   "metadata": {},
   "source": [
    "# 确定评估小区"
   ]
  },
  {
   "cell_type": "code",
   "execution_count": 7,
   "metadata": {},
   "outputs": [],
   "source": [
    "selected_cell = ant_opt.api.assessment_cell(sm_cl, problem_cell)"
   ]
  },
  {
   "cell_type": "markdown",
   "metadata": {},
   "source": [
    "# 确定评估小区的ott数据并匹配其邻区的eci"
   ]
  },
  {
   "cell_type": "code",
   "execution_count": 8,
   "metadata": {},
   "outputs": [],
   "source": [
    "data_OTT_use = data_OTT_f[data_OTT_f['s_ci'].isin(selected_cell)].copy().reset_index().rename(columns={'index': 'id'})"
   ]
  },
  {
   "cell_type": "code",
   "execution_count": 9,
   "metadata": {},
   "outputs": [],
   "source": [
    "for i in range(1, 9 + 1):\n",
    "    # 指纹库所需列名\n",
    "    df_eci = ant_opt.api.ECI_cell_near(sm_cl, data_OTT_use, cell_near_num=i)\n",
    "    data_OTT_use = data_OTT_use.merge(df_eci, how='left', on=['s_ci', 'id'])"
   ]
  },
  {
   "cell_type": "code",
   "execution_count": 10,
   "metadata": {},
   "outputs": [
    {
     "name": "stdout",
     "output_type": "stream",
     "text": [
      "EARFCN不全为空的邻区个数为：  9\n"
     ]
    }
   ],
   "source": [
    "nb_neighbor_eci = 0\n",
    "for i in range(1,10):\n",
    "    nb_neighbor_eci += ((~data_OTT_use['n{}_earfcn'.format(i)].isnull()).sum() > 0) * 1\n",
    "print(\"EARFCN不全为空的邻区个数为： \", nb_neighbor_eci)"
   ]
  },
  {
   "cell_type": "markdown",
   "metadata": {},
   "source": [
    "# 数据预处理"
   ]
  },
  {
   "cell_type": "code",
   "execution_count": 11,
   "metadata": {
    "code_folding": []
   },
   "outputs": [],
   "source": [
    "# 获取OTT数据中需要的特征 构建指纹库数据mr_zwk\n",
    "mr_eci_feat = \"s_ci\"\n",
    "mr_eci_feat_neighbors = [\"n{}_ci\".format(i) for i in range(1,nb_neighbor_eci+1)]\n",
    "mr_longitude_feat = \"longitude\"\n",
    "mr_latitude_feat = \"latitude\"\n",
    "mr_rsrp_feat = \"s_rsrp\"\n",
    "mr_rsrp_feat_neighbors = [\"n{}_rsrp\".format(i) for i in range(1,nb_neighbor_eci+1)]\n",
    "mr_carrier_number_feat = \"s_earfc\"\n",
    "mr_carrier_number_neighbor_feat = [\"n{}_earfcn\".format(i) for i in range(1,nb_neighbor_eci+1)]\n",
    "\n",
    "mr_feat = [mr_eci_feat] +  mr_eci_feat_neighbors + [mr_longitude_feat] + [mr_latitude_feat] + [mr_carrier_number_feat] + mr_carrier_number_neighbor_feat + [mr_rsrp_feat] + mr_rsrp_feat_neighbors\n",
    "mr_zwk = data_OTT_use[mr_feat].copy()\n",
    "\n",
    "# 获取本次分析所有可用的小区eci 包括主小区和邻区\n",
    "available_cells = set(mr_zwk[mr_eci_feat])\n",
    "for i in range(0, len(mr_eci_feat_neighbors)):\n",
    "    available_cells = available_cells.union( set(mr_zwk[mr_eci_feat_neighbors[i]]))\n",
    "available_cells = sorted([i for i in list(available_cells) if i is not nan])\n",
    "print(\"There are \", len(available_cells), \" cells available for analysis.\")\n",
    "\n",
    "# 获取需要的工参数据\n",
    "cellinfo_eci_feat = \"ci\"\n",
    "cellinfo_longitude_feat = \"longitude\"\n",
    "cellinfo_latitude_feat = \"latitude\"\n",
    "cellinfo_antenna_height_feat = \"groud_height\" # useful to define vertical angle\n",
    "cellinfo_frequency_band_feat = \"working_band\" # useful for Enodeb_id_fre only\n",
    "cellinfo_antenna_gain_feat = \"antenna_gain\" # useful for func_gain function\n",
    "cellinfo_azimuth_feat = \"azimuth\" # useful for delta azimuth\n",
    "cellinfo_down_dip_angle_feat = \"down_tilt\" # useful for delta tilt\n",
    "cellinfo_horizontal_beam_feat = \"horizontal_beam_feat\" # useful for func_gain function\n",
    "cellinfo_vertical_beam_feat = \"vertical_beam_feat\" # useful for func_gain function\n",
    "cellinfo_enode_feat = \"enodeb_id\" # useful for Enodeb_id_fre and helu only\n",
    "cellinfo_mechanical_dip_angle_feat = \"m_down_tilt\" \n",
    "cellinfo_feat = [cellinfo_eci_feat,\n",
    "                  cellinfo_antenna_height_feat, \n",
    "                  cellinfo_longitude_feat,\n",
    "                  cellinfo_latitude_feat,\n",
    "                  cellinfo_frequency_band_feat, \n",
    "                  cellinfo_antenna_gain_feat, \n",
    "                  cellinfo_azimuth_feat,\n",
    "                  cellinfo_down_dip_angle_feat, \n",
    "                  cellinfo_horizontal_beam_feat, \n",
    "                  cellinfo_vertical_beam_feat, \n",
    "                  cellinfo_enode_feat,\n",
    "                  cellinfo_mechanical_dip_angle_feat]\n",
    "\n",
    "cellinfo = sm_cl[cellinfo_feat].copy()\n",
    "cellinfo = cellinfo[cellinfo['ci'].isin(available_cells)]\n",
    "cellinfo[cellinfo_frequency_band_feat] = cellinfo[cellinfo_frequency_band_feat].apply(lambda x: str(int(x)))\n",
    "cellinfo[cellinfo_enode_feat] = cellinfo[cellinfo_enode_feat].apply(lambda x: str(x))\n",
    "\n",
    "# 共天线约束, 此连接语句可放在函数外面\n",
    "cellinfo[\"Enodeb_id_fre\"] = [i[0] + '|' + i[1] for i in zip(cellinfo[cellinfo_enode_feat], cellinfo[cellinfo_frequency_band_feat])]\n",
    "\n",
    "# 设置缺省值\n",
    "## Default value for \"方位角\" == cellinfo_azimuth_feat\n",
    "# cellinfo[cellinfo_azimuth_feat]\n",
    "def_azimuth_0 = 0\n",
    "\n",
    "## Default value for horizontal_beam == azimuth_3db == \"水平波束宽度\"\n",
    "# common values are {65, 80}\n",
    "def_horizontal_beam_0 = 10 # set 10 for 0\n",
    "\n",
    "## Default value for vertical_beam == tilt_3db == \"垂直波束宽度\"\n",
    "# common values are {5, 9, 10, 60, 65}\n",
    "def_vertical_beam_0 = 5 # set 5 for 0 \n",
    "\n",
    "## Default value for antenna_gain == gain_antenna == \"天线增益\"\n",
    "# common values are {4, 10, 12, 14, 15, 15.8, 16, 16.5, 17}\n",
    "def_gain_antenna_0 = 5 # set 5 for 0\n",
    "\n",
    "## Default value for m_down_tilt == \"机械下倾角\"\n",
    "# common values is {3}\n",
    "def_m_down_tilt_0 = 3\n",
    "\n",
    "## Default value for down_tilt == \"下倾角\"\n",
    "# common values is {9}\n",
    "def_down_tilt_0 = 9\n",
    "\n",
    "def_horizontal_beam = 60 # 60 for NA after merging\n",
    "def_vertical_beam = 10 # 10 for NA after merging\n",
    "def_gain_antenna = 5 # 5 for NA after merging\n",
    "def_delta_azimuth = 130 # angle in ]0,360[\n",
    "def_delta_tilt = 30 # between 0 and 80, usually smaller than 20\n",
    "\n",
    "# 用默认值填充缺失值（0和缺失值）\n",
    "cellinfo[cellinfo_azimuth_feat] = cellinfo[cellinfo_azimuth_feat].replace({np.nan: def_azimuth_0, 0: def_azimuth_0})\n",
    "cellinfo[cellinfo_horizontal_beam_feat] = cellinfo[cellinfo_horizontal_beam_feat].replace({np.nan: def_horizontal_beam_0, 0: def_horizontal_beam_0})\n",
    "cellinfo[cellinfo_vertical_beam_feat] = cellinfo[cellinfo_vertical_beam_feat].replace({np.nan: def_vertical_beam_0, 0: def_vertical_beam_0})\n",
    "cellinfo[cellinfo_antenna_gain_feat] = cellinfo[cellinfo_antenna_gain_feat].replace({np.nan: def_gain_antenna_0, 0: def_gain_antenna_0})\n",
    "cellinfo[cellinfo_mechanical_dip_angle_feat] = cellinfo[cellinfo_mechanical_dip_angle_feat].replace({np.nan: def_m_down_tilt_0, 0: def_m_down_tilt_0})\n",
    "cellinfo[cellinfo_down_dip_angle_feat] = cellinfo[cellinfo_down_dip_angle_feat].replace({np.nan: def_down_tilt_0, 0: def_down_tilt_0})\n",
    "\n",
    "del cellinfo[cellinfo_enode_feat]\n",
    "del cellinfo[cellinfo_frequency_band_feat]\n",
    "\n",
    "# 确保指纹库数据中每一行都至少包含一个联调小区\n",
    "all_eci_feat = [mr_eci_feat] + mr_eci_feat_neighbors\n",
    "mr_zwk = mr_zwk[mr_zwk[all_eci_feat].isin(liantiao_cell).sum(axis=1)>0].reset_index()\n",
    "del mr_zwk['index']\n",
    "\n",
    "# 重命名工参表\n",
    "cellinfo = cellinfo.rename(columns={cellinfo_eci_feat: \"ECI\", cellinfo_longitude_feat: \"经度\", cellinfo_latitude_feat: \"纬度\", \n",
    "                         cellinfo_antenna_gain_feat: \"天线增益\", cellinfo_azimuth_feat: \"方位角\", cellinfo_down_dip_angle_feat: \"下倾角\",\n",
    "                        cellinfo_horizontal_beam_feat: \"水平波束宽度\", cellinfo_mechanical_dip_angle_feat: \"机械下倾角\",\n",
    "                        cellinfo_vertical_beam_feat: \"垂直波束宽度\", cellinfo_antenna_height_feat: \"天线挂高\"})\n",
    "# 重命名zwk指纹库\n",
    "mr_zwk = mr_zwk.rename(columns={mr_eci_feat: \"ECI0\", mr_rsrp_feat: \"RSRP0\", mr_carrier_number_feat: \"carrier_nb0\",\n",
    "                                mr_longitude_feat: \"经度_user\", mr_latitude_feat: \"纬度_user\"})\n",
    "mr_zwk = mr_zwk.rename(columns={\"n{}_ci\".format(i): \"ECI{}\".format(i) for i in range(1, 10)})\n",
    "mr_zwk = mr_zwk.rename(columns={\"n{}_rsrp\".format(i): \"RSRP{}\".format(i) for i in range(1, 10)})\n",
    "mr_zwk = mr_zwk.rename(columns={\"n{}_earfcn\".format(i): \"carrier_nb{}\".format(i) for i in range(1, 10)})\n",
    "\n",
    "# 合并指纹库表和工参表\n",
    "df = mr_zwk.copy()\n",
    "\n",
    "for i in range(0, 10):\n",
    "    a = cellinfo.copy()\n",
    "    del a['机械下倾角']\n",
    "    del a['Enodeb_id_fre']\n",
    "    a.columns = a.columns + str(i)\n",
    "    df = df.merge(a, how='left', on=\"ECI{}\".format(i))\n",
    "\n",
    "# 调整变量顺序\n",
    "cols_std = [\"ECI{}\".format(i) for i in range(10)] + [\"RSRP{}\".format(i) for i in range(10)] + [\"经度_user\"] +\\\n",
    "    [\"经度{}\".format(i) for i in range(10)] + [\"纬度_user\"] +\\\n",
    "    [\"纬度{}\".format(i) for i in range(10)] + [\"carrier_nb{}\".format(i) for i in range(10)] +\\\n",
    "    [\"天线挂高{}\".format(i) for i in range(10)] + [\"天线增益{}\".format(i) for i in range(10)] +\\\n",
    "    [\"方位角{}\".format(i) for i in range(10)] + [\"下倾角{}\".format(i) for i in range(10)] +\\\n",
    "    [\"水平波束宽度{}\".format(i) for i in range(10)] + \\\n",
    "    [\"垂直波束宽度{}\".format(i) for i in range(10)]\n",
    "\n",
    "df = df.reindex(columns=cols_std)"
   ]
  },
  {
   "cell_type": "markdown",
   "metadata": {},
   "source": [
    "# 根据通信理论计算理论增益"
   ]
  },
  {
   "cell_type": "code",
   "execution_count": 23,
   "metadata": {},
   "outputs": [],
   "source": [
    "latitude_user = df[\"纬度_user\"]\n",
    "longitude_user = df[\"经度_user\"]\n",
    "for i in range(0,10):\n",
    "    df[\"horizontal_angle{}\".format(i)] = np.nan\n",
    "    df[\"delta_azimuth{}\".format(i)] = np.nan\n",
    "    df[\"vertical_angle{}\".format(i)] = np.nan\n",
    "    df[\"delta_tilt{}\".format(i)] = np.nan\n",
    "    df[\"dis_m_u1{}\".format(i)] = np.nan\n",
    "    #无邻区,有邻区但邻区 不在调优范围,室内ott经纬度与小区经纬度相同\n",
    "    longitude_cell = df[\"经度{}\".format(i)]\n",
    "    latitude_cell = df[\"纬度{}\".format(i)]\n",
    "    ix = df[(~df[\"经度{}\".format(i)].isnull()) & (df[\"纬度_user\"] != df[\"纬度{}\".format(i)])].index\n",
    "    # 计算UE与基站之间的水平夹角 注意是基站不是天线\n",
    "    df.loc[ix, 'horizontal_angle{}'.format(i)] = ant_opt.api.horizontal_angle_func(longitude_cell=longitude_cell[ix], longitude_user=longitude_user[ix], latitude_cell=latitude_cell[ix], latitude_user=latitude_user[ix])\n",
    "    # 计算UE与基站之间的垂直夹角 意是基站不是天线\n",
    "    df.loc[ix, 'dis_m_u{}'.format(i)] = ant_opt.api.geodistance(lon1=longitude_cell[ix], lon2=longitude_user[ix], lat1=latitude_cell[ix], lat2=latitude_user[ix])\n",
    "    df.loc[ix, 'vertical_angle{}'.format(i)] = ant_opt.api.vertical_angle_func(antenna_height=df.loc[ix, \"天线挂高{}\".format(i)], dis_m_u=df.loc[ix, 'dis_m_u{}'.format(i)])\n",
    "    \n",
    "    # 计算UE与天线之间的水平夹角 对于缺失值用默认值填补 注意是天线不是基站\n",
    "    df.loc[ix, 'delta_azimuth{}'.format(i)] = ant_opt.api.floor_diff(X=df.loc[ix, \"方位角{}\".format(i)], Y=df.loc[ix, 'horizontal_angle{}'.format(i)])\n",
    "    df['delta_azimuth{}'.format(i)] = df['delta_azimuth{}'.format(i)].replace({np.nan: def_delta_azimuth})\n",
    "    # 计算UE与天线之间的垂直夹角 对于缺失值用默认值填补 注意是天线不是基站\n",
    "    df.loc[ix, 'delta_tilt{}'.format(i)] = ant_opt.api.floor_diff(X=df.loc[ix, \"下倾角{}\".format(i)], Y=df.loc[ix, 'vertical_angle{}'.format(i)])\n",
    "    df['delta_tilt{}'.format(i)] = df['delta_tilt{}'.format(i)].replace({np.nan: def_delta_tilt})\n",
    "    \n",
    "    # Replace NA caused by merging with missing ECI (not the same with 0 values)\n",
    "    df['水平波束宽度{}'.format(i)] = df['水平波束宽度{}'.format(i)].replace({np.nan: def_horizontal_beam})\n",
    "    df['垂直波束宽度{}'.format(i)] = df['垂直波束宽度{}'.format(i)].replace({np.nan: def_vertical_beam})\n",
    "    df['天线增益{}'.format(i)] = df['天线增益{}'.format(i)].replace({np.nan: def_gain_antenna})\n",
    "    \n",
    "    # 计算增益\n",
    "    df.loc[ix, 'gain{}'.format(i)] = ant_opt.api.funcgain(delta_azimuth=df.loc[ix, \"delta_azimuth{}\".format(i)], delta_tilt=df.loc[ix, 'delta_tilt{}'.format(i)],\\\n",
    "                                               azimuth_3db=df.loc[ix, '水平波束宽度{}'.format(i)],\\\n",
    "                                               tilt_3db=df.loc[ix, '垂直波束宽度{}'.format(i)],\\\n",
    "                                               gain_antenna=df.loc[ix, '天线增益{}'.format(i)])\n",
    "    "
   ]
  },
  {
   "cell_type": "code",
   "execution_count": 24,
   "metadata": {},
   "outputs": [],
   "source": [
    "# 方位角采样点覆盖范围限定在主波瓣 [-90,90] 范围内\n",
    "df = df[df['delta_azimuth0'].abs() <= 90]\n",
    "\n",
    "# 仅保留有用的变量\n",
    "cellinfo = cellinfo[[\"ECI\",\"下倾角\",\"机械下倾角\",\"方位角\",\"Enodeb_id_fre\"]]\n",
    "cols_keep = [\"ECI{}\".format(i) for i in range(0, 10)] + \\\n",
    "[\"horizontal_angle{}\".format(i) for i in range(0, 10)] + \\\n",
    "[\"vertical_angle{}\".format(i) for i in range(0, 10)] + \\\n",
    "[\"RSRP{}\".format(i) for i in range(0, 10)] + \\\n",
    "[\"gain{}\".format(i) for i in range(0, 10)] + \\\n",
    "[\"carrier_nb{}\".format(i) for i in range(0, 10)] + \\\n",
    "[\"水平波束宽度{}\".format(i) for i in range(0, 10)] + \\\n",
    "[\"垂直波束宽度{}\".format(i) for i in range(0, 10)] + \\\n",
    "[\"天线增益{}\".format(i) for i in range(0, 10)]\n",
    "df_final = df1[cols_keep]"
   ]
  },
  {
   "cell_type": "code",
   "execution_count": 25,
   "metadata": {},
   "outputs": [],
   "source": []
  },
  {
   "cell_type": "code",
   "execution_count": null,
   "metadata": {},
   "outputs": [],
   "source": []
  }
 ],
 "metadata": {
  "hide_input": false,
  "kernelspec": {
   "display_name": "Python 3",
   "language": "python",
   "name": "python3"
  },
  "language_info": {
   "codemirror_mode": {
    "name": "ipython",
    "version": 3
   },
   "file_extension": ".py",
   "mimetype": "text/x-python",
   "name": "python",
   "nbconvert_exporter": "python",
   "pygments_lexer": "ipython3",
   "version": "3.6.5"
  },
  "toc": {
   "base_numbering": 1,
   "nav_menu": {},
   "number_sections": true,
   "sideBar": true,
   "skip_h1_title": false,
   "title_cell": "Table of Contents",
   "title_sidebar": "Contents",
   "toc_cell": false,
   "toc_position": {},
   "toc_section_display": true,
   "toc_window_display": true
  },
  "varInspector": {
   "cols": {
    "lenName": 16,
    "lenType": 16,
    "lenVar": 40
   },
   "kernels_config": {
    "python": {
     "delete_cmd_postfix": "",
     "delete_cmd_prefix": "del ",
     "library": "var_list.py",
     "varRefreshCmd": "print(var_dic_list())"
    },
    "r": {
     "delete_cmd_postfix": ") ",
     "delete_cmd_prefix": "rm(",
     "library": "var_list.r",
     "varRefreshCmd": "cat(var_dic_list()) "
    }
   },
   "position": {
    "height": "380px",
    "left": "1524px",
    "right": "46px",
    "top": "129px",
    "width": "350px"
   },
   "types_to_exclude": [
    "module",
    "function",
    "builtin_function_or_method",
    "instance",
    "_Feature"
   ],
   "window_display": true
  }
 },
 "nbformat": 4,
 "nbformat_minor": 2
}
