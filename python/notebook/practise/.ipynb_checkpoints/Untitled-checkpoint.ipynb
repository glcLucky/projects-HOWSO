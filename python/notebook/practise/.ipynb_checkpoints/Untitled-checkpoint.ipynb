{
 "cells": [
  {
   "cell_type": "code",
   "execution_count": 5,
   "metadata": {},
   "outputs": [],
   "source": [
    "from scipy.optimize import fsolve, basinhopping"
   ]
  },
  {
   "cell_type": "code",
   "execution_count": 60,
   "metadata": {},
   "outputs": [
    {
     "data": {
      "text/plain": [
       "array([[0.77797668, 0.86480894],\n",
       "       [0.81994647, 0.5574124 ],\n",
       "       [0.63057057, 0.63221222],\n",
       "       [0.93254836, 0.84534049],\n",
       "       [0.52513426, 0.80332963],\n",
       "       [1.00318045, 0.89349928],\n",
       "       [0.493401  , 0.94063342],\n",
       "       [0.43914736, 0.67319843],\n",
       "       [0.79026052, 0.89862256],\n",
       "       [0.41969794, 0.59634929]])"
      ]
     },
     "execution_count": 60,
     "metadata": {},
     "output_type": "execute_result"
    }
   ],
   "source": [
    "chromosomesEncoded"
   ]
  },
  {
   "cell_type": "code",
   "execution_count": 85,
   "metadata": {},
   "outputs": [
    {
     "data": {
      "text/plain": [
       "array([-3.47796133, -3.37193665,  0.2541658 , -4.88346789,  2.24771284,\n",
       "       -4.66384724,  2.66694564,  4.06025335, -3.73247356,  4.52302918])"
      ]
     },
     "execution_count": 85,
     "metadata": {},
     "output_type": "execute_result"
    }
   ],
   "source": [
    "chromosomesEncoded[:, 0] + np.cos(3 * chromosomesEncoded[:, 1]) + 5 * np.sin(5 * chromosomesEncoded[:, 0])"
   ]
  },
  {
   "cell_type": "code",
   "execution_count": 82,
   "metadata": {},
   "outputs": [
    {
     "data": {
      "text/plain": [
       "array([-3.40193553, -4.09061615, -0.05629975, -4.99383916,  2.46668253,\n",
       "       -4.77146177,  3.12287677,  4.05498973, -3.62043572,  4.31985421])"
      ]
     },
     "execution_count": 82,
     "metadata": {},
     "output_type": "execute_result"
    }
   ],
   "source": [
    "5 * np.sin(5 * chromosomesEncoded[:, 0])"
   ]
  },
  {
   "cell_type": "code",
   "execution_count": 375,
   "metadata": {},
   "outputs": [],
   "source": [
    "import random\n",
    "def fitness_func(X):\n",
    "    \"\"\"\n",
    "    计算多个参数组的适应度值\n",
    "    @X <np.array>: 参数数组 二维数组 每行代表一个参数组（染色体）\n",
    "    @return <np.array> 一维数组 存储每个参数组对应的适应度值\n",
    "    \"\"\"\n",
    "    y = X[:, 0] + 5 * np.sin(5 * X[:, 0]) + 2 * np.cos(3 * X[:, 1])\n",
    "    return y\n",
    "\n",
    "def getEncodedLength(bounds, decimal=0.001):\n",
    "    \"\"\"\n",
    "    根据bounds获得每个变量的编码长度\n",
    "    @bounds <list of list>: 上下限列表 [[low, high], ..., [low, high]]\n",
    "    @decimal <float>: 精确度 保留的小数 越小 速度越慢\n",
    "    \"\"\"\n",
    "    lengths = []\n",
    "    for i in bounds:\n",
    "        lower = i[0]\n",
    "        upper = i[1]\n",
    "        # lamnda 代表匿名函数f(x)=0,50代表搜索的初始解\n",
    "        res = fsolve(lambda x: ((upper - lower) * 1 / decimal) - 2 ** x - 1, 50)\n",
    "        length = int(np.floor(res[0]))\n",
    "        lengths.append(length)\n",
    "    return lengths\n",
    "    pass\n",
    "\n",
    "\n",
    "def getIntialPopulation(encodelength, populationSize=10):\n",
    "    \"\"\"\n",
    "    根据种群规模和长度随机生成初始编码种群\n",
    "    @encodelength <list>: 每个变量编码所需要的长度列表\n",
    "    @populationSize <int>: 种群规模\n",
    "    \"\"\"\n",
    "    chromosomes = np.zeros((populationSize, sum(encodelength)), dtype=np.uint8)\n",
    "    for i in range(populationSize):\n",
    "        chromosomes[i, :] = np.random.randint(0, 2, sum(encodelength))\n",
    "    # print('chromosomes shape:', chromosomes.shape)\n",
    "    return chromosomes\n",
    "\n",
    "# 染色体解码得到表现型的解\n",
    "def decodedChromosome(bounds, encodelength, chromosomes):\n",
    "    populations = chromosomes.shape[0]\n",
    "    variables = len(encodelength)\n",
    "    decodedvalues = np.zeros((populations, variables))\n",
    "    for k, chromosome in enumerate(chromosomes):\n",
    "        chromosome = chromosome.tolist()\n",
    "        start = 0\n",
    "        for index, length in enumerate(encodelength):\n",
    "            # 将一个染色体进行拆分，得到染色体片段\n",
    "            power = length - 1\n",
    "            # 解码得到的10进制数字\n",
    "            demical = 0\n",
    "            for i in range(start, length + start):\n",
    "                demical += chromosome[i] * (2 ** power)\n",
    "                power -= 1\n",
    "            lower = bounds[index][0]\n",
    "            upper = bounds[index][1]\n",
    "            decodedvalue = lower + demical * \\\n",
    "                (upper - lower) / (2 ** length - 1)\n",
    "            decodedvalues[k, index] = decodedvalue\n",
    "            # 开始去下一段染色体的编码\n",
    "            start = length\n",
    "    return decodedvalues\n",
    "\n",
    "# 染色体解码得到表现型的解\n",
    "def decodedChromosome(bounds, encodelength, chromosomes):\n",
    "    \"\"\"\n",
    "    **待优化**\n",
    "    染色体解码得到表现型的解（二进制 -> 十进制）\n",
    "    @encodeLength <list>: 编码长度\n",
    "    @chromosomes <np.array>: 染色体 二维数组 行数为染色体个数 列数为对应染色体的基因个数\n",
    "    \"\"\"\n",
    "    populations = chromosomes.shape[0]\n",
    "    variables = len(encodelength)\n",
    "    decodedvalues = np.zeros((populations, variables))\n",
    "    for k, chromosome in enumerate(chromosomes):\n",
    "        chromosome = chromosome.tolist()\n",
    "        start = 0\n",
    "        for index, length in enumerate(encodelength):\n",
    "            # 将一个染色体进行拆分，得到染色体片段\n",
    "            power = length - 1\n",
    "            # 解码得到的10进制数字\n",
    "            demical = 0\n",
    "            for i in range(start, length + start):\n",
    "                demical += chromosome[i] * (2 ** power)\n",
    "                power -= 1\n",
    "            lower = bounds[index][0]\n",
    "            upper = bounds[index][1]\n",
    "            decodedvalue = lower + demical * \\\n",
    "                (upper - lower) / (2 ** length - 1)\n",
    "            decodedvalues[k, index] = decodedvalue\n",
    "            # 开始去下一段染色体的编码\n",
    "            start = length\n",
    "    return decodedvalues\n",
    "\n",
    "def getFitnessValue(fitness_func, chromosomesDecoded):\n",
    "    \"\"\"\n",
    "    根据解码后的种群计算种群内各个体的适应度值\n",
    "    @fitness <func>: 适应度函数\n",
    "    @chromosomesDecoded <np.array> 群体 二维数组 必须是解码后的值\n",
    "    @return <tuple>: (fitness_value, enter_prob)\n",
    "    \"\"\"\n",
    "    # 计算当前群体中每个个体的适应度值\n",
    "    fitnees_value = fitness_func(chromosomesDecoded)  # 适应度值\n",
    "    # 根据适应度大小计算每个个体被选择的概率 指数化权重\n",
    "    fitnees_value_exp = np.exp(fitnees_value)\n",
    "    enter_prob = fitnees_value_exp / fitnees_value_exp.sum()\n",
    "    return {\"fitness_value\": fitnees_value, \"enter_prob\": enter_prob}\n",
    "\n",
    "# 获取每个个体的入选概率\n",
    "def getFitnessValue(fitness_func, chromosomesEncoded):\n",
    "    \"\"\"\n",
    "    根据解码后的种群计算种群内各个体的适应度值\n",
    "    @fitness <func>: 适应度函数\n",
    "    @chromosomesEncoded <np.array> 群体 二维数组 必须是解码后的值\n",
    "    \"\"\"\n",
    "    # 计算当前群体中每个个体的适应度值\n",
    "    fitnees_value = fitness_func(chromosomesEncoded)  # 适应度值\n",
    "    # 根据适应度大小计算每个个体被选择的概率 指数化权重\n",
    "    fitnees_value_exp = np.exp(fitnees_value)\n",
    "    enter_prob = fitnees_value_exp / fitnees_value_exp.sum()\n",
    "    return  (fitnees_value, enter_prob)\n",
    "\n",
    "def selectNewPopulation(chromosomesEncoded, enter_prob):\n",
    "    \"\"\"\n",
    "    轮盘赌选择\n",
    "    - 根据适应度计算该种群每个个体的入选概率\n",
    "    - 进行m次循环 m为该种群的个体数 生成m个介于最小和最大入选概率的随机数\n",
    "    - 根据适应度计算该种群每个个体的入选概率 生成m个介于最小和最大入选概率的随机数\n",
    "    - 针对第i次循环，获得第i个随机数，筛选出大于该随机数的个体，然后从这些个体中随机选择一个作为新群体中的第i个群体\n",
    "    @chromosomesEncoded <np.array> 群体 二维数组 必须是编码后的值\n",
    "    @enter_prob <np.array>: 当前种群下各个体的入选概率 一维数组\n",
    "    \"\"\"    \n",
    "    m, n = chromosomesEncoded.shape\n",
    "    newpopulation = np.zeros((m, n), dtype=np.uint8)\n",
    "    # 随机产生M个概率值\n",
    "    randoms = np.random.uniform(enter_prob.min(), enter_prob.max(), m)\n",
    "    for i, randoma in enumerate(randoms):\n",
    "        logical = enter_prob >= randoma\n",
    "        index = np.where(logical == 1)\n",
    "        # index是tuple,tuple中元素是ndarray\n",
    "        newpopulation[i, :] = chromosomesEncoded[index[0][0], :]\n",
    "    return newpopulation\n",
    "\n",
    "\n",
    "def crossover(chromosomesEncoded, crossprob=0.8):\n",
    "    \"\"\"\n",
    "    @chromosomesEncoded: <np.array> 选择后的新种群（编码后）\n",
    "    @crossprob<np.float32>: 交叉概率默认是0.8\n",
    "    @return: 交叉后得到的新种群\n",
    "    \"\"\"\n",
    "    # 根据交叉概率计算需要进行交叉的个体个数\n",
    "    m, n = chromosomesEncoded.shape\n",
    "    numbers = np.uint8(m * crossprob)\n",
    "    # 确保进行交叉的染色体个数是偶数个\n",
    "    if numbers % 2 != 0:\n",
    "        numbers += 1\n",
    "    # 交叉后得到的新种群\n",
    "    updatepopulation = np.zeros((m, n), dtype=np.uint8)\n",
    "    # 产生随机索引\n",
    "    index = random.sample(range(m), numbers)\n",
    "    # 不进行交叉的染色体进行复制\n",
    "    for i in range(m):\n",
    "        if not index.__contains__(i):\n",
    "            updatepopulation[i, :] = chromosomesEncoded[i, :]\n",
    "    # crossover\n",
    "    while len(index) > 0:\n",
    "        a = index.pop()\n",
    "        b = index.pop()\n",
    "        # 随机产生一个交叉点\n",
    "        crossoverPoint = random.sample(range(1, n), 1)\n",
    "        crossoverPoint = crossoverPoint[0]\n",
    "        # one-single-point crossover\n",
    "        updatepopulation[a, 0:crossoverPoint] = chromosomesEncoded[a, 0:crossoverPoint]\n",
    "        updatepopulation[a, crossoverPoint:] = chromosomesEncoded[b, crossoverPoint:]\n",
    "        updatepopulation[b, 0:crossoverPoint] = chromosomesEncoded[b, 0:crossoverPoint]\n",
    "        updatepopulation[b, crossoverPoint:] = chromosomesEncoded[a, crossoverPoint:]\n",
    "    return updatepopulation\n",
    "\n",
    "def mutation(chromosomesEncoded, mutprob=0.2):\n",
    "    \"\"\"\n",
    "    对交叉后的染色体进行变异\n",
    "    @population <np.array>: 经交叉后得到的种群（编码后）\n",
    "    @mutprob <np.float>: 交叉概率 默认为0.2\n",
    "    @return: 经变异操作后的新种群\n",
    "    \"\"\"\n",
    "    updatepopulation = np.copy(chromosomesEncoded)\n",
    "    m, n = chromosomesEncoded.shape\n",
    "    # 计算需要变异的基因个数\n",
    "    gene_num = np.uint8(m * n * mutprob)\n",
    "    # 将所有的基因按照序号进行10进制编码，则共有m*n个基因\n",
    "    # 随机抽取gene_num个基因进行基本位变异\n",
    "    mutationGeneIndex = random.sample(range(0, m * n), gene_num)\n",
    "    # 确定每个将要变异的基因在整个染色体中的基因座(即基因的具体位置)\n",
    "    for gene in mutationGeneIndex:\n",
    "        # 确定变异基因位于第几个染色体\n",
    "        chromosomeIndex = gene // n\n",
    "        # 确定变异基因位于当前染色体的第几个基因位\n",
    "        geneIndex = gene % n\n",
    "        # mutation\n",
    "        if updatepopulation[chromosomeIndex, geneIndex] == 0:\n",
    "            updatepopulation[chromosomeIndex, geneIndex] = 1\n",
    "        else:\n",
    "            updatepopulation[chromosomeIndex, geneIndex] = 0\n",
    "    return updatepopulation"
   ]
  },
  {
   "cell_type": "code",
   "execution_count": 389,
   "metadata": {},
   "outputs": [],
   "source": [
    "bounds = [[0, np.pi / 3], [np.pi / 6, np.pi / 3]]\n",
    "max_iters = 10\n",
    "decimal = 0.001\n",
    "lengthEncode  = getEncodedLength(bounds, decimal)\n",
    "chromosomesEncoded = getIntialPopulation(lengthEncode )  # 编码后的染色体组\n",
    "chromosomesDecoded = decodedChromosome(bounds, lengthEncode , chromosomes)  # 解码后的染色体组\n",
    "fitness_value, enter_prob = getFitnessValue(fitness_func, chromosomesDecoded)  # 获得适应度值及其入选概率\n",
    "newpopulation = selectNewPopulation(chromosomesEncoded, enter_prob)  # 选择\n",
    "crossoverpopulation = crossover(newpopulation)  # 交叉\n",
    "mutationpopulation = mutation(chromosomesEncoded)  # 变异\n",
    "# chromosomesEncoded = copy.deepcopy(mutationpopulation)  # 将进化后的群体重新设置为待进化群体 以方便下一轮迭代\n",
    "final_decoded = decodedChromosome(bounds=bounds, encodelength=lengthEncode, chromosomes=mutationpopulation)"
   ]
  },
  {
   "cell_type": "code",
   "execution_count": null,
   "metadata": {},
   "outputs": [],
   "source": [
    "fitness_value, enter_prob = getFitnessValue(fitness_func, final_decoded)  # 获得适应度值及其入选概率\n",
    "newpopulation = selectNewPopulation(chromosomesEncoded, enter_prob)  # 选择\n",
    "crossoverpopulation = crossover(newpopulation)  # 交叉\n",
    "mutationpopulation = mutation(chromosomesEncoded)  # 变异\n",
    "# chromosomesEncoded = copy.deepcopy(mutationpopulation)  # 将进化后的群体重新设置为待进化群体 以方便下一轮迭代\n",
    "final_decoded = decodedChromosome(bounds=bounds, encodelength=lengthEncode, chromosomes=mutationpopulation)"
   ]
  },
  {
   "cell_type": "code",
   "execution_count": 390,
   "metadata": {},
   "outputs": [
    {
     "data": {
      "text/plain": [
       "array([[0.61214481, 0.76131877],\n",
       "       [0.45654947, 0.82587204],\n",
       "       [0.56198578, 0.93755945],\n",
       "       [1.02774813, 0.7971817 ],\n",
       "       [0.25079511, 0.63528619],\n",
       "       [0.14842976, 0.7080367 ],\n",
       "       [0.06449017, 0.55638774],\n",
       "       [0.23544031, 0.55433843],\n",
       "       [0.6100975 , 0.53691929],\n",
       "       [0.11976746, 0.63118757]])"
      ]
     },
     "execution_count": 390,
     "metadata": {},
     "output_type": "execute_result"
    }
   ],
   "source": [
    "final_decoded"
   ]
  },
  {
   "cell_type": "code",
   "execution_count": 391,
   "metadata": {},
   "outputs": [
    {
     "data": {
      "text/plain": [
       "array([[0.94278489, 0.72545584],\n",
       "       [0.22418012, 0.96317583],\n",
       "       [0.61828673, 0.85251307],\n",
       "       [0.81380455, 0.78693515],\n",
       "       [0.0880342 , 0.8473898 ],\n",
       "       [0.63568884, 0.82177342],\n",
       "       [0.48214081, 0.91501704],\n",
       "       [0.81687551, 0.94678135],\n",
       "       [0.43710005, 0.61171912],\n",
       "       [0.88443664, 0.79923101]])"
      ]
     },
     "execution_count": 391,
     "metadata": {},
     "output_type": "execute_result"
    }
   ],
   "source": [
    "chromosomesDecoded"
   ]
  },
  {
   "cell_type": "code",
   "execution_count": 385,
   "metadata": {},
   "outputs": [
    {
     "name": "stdout",
     "output_type": "stream",
     "text": [
      "0\n",
      "4.306506202423488\n",
      "[[1 1 0 0 1 0 1 1 1 0 1 1 1 0 1 0 0 0 1]\n",
      " [1 0 1 1 0 1 1 0 0 0 0 1 1 0 1 1 0 1 1]\n",
      " [1 1 0 0 0 0 0 0 1 1 0 0 0 1 1 1 1 1 1]\n",
      " [0 1 0 0 0 0 0 0 1 1 1 0 1 0 1 0 0 1 0]\n",
      " [0 0 0 1 1 1 1 0 0 0 0 1 0 0 1 1 1 1 0]\n",
      " [1 0 1 1 1 0 0 0 1 0 1 0 1 1 0 1 1 0 1]\n",
      " [1 1 0 0 1 1 0 0 0 1 0 0 0 0 1 0 1 1 1]\n",
      " [1 0 1 0 1 0 1 1 0 1 1 0 0 0 1 0 1 0 1]\n",
      " [1 0 0 0 0 1 1 1 1 0 0 0 0 0 1 1 1 1 1]\n",
      " [0 1 1 1 0 1 1 0 0 0 1 1 0 0 0 0 1 0 0]]\n",
      "1\n",
      "4.306506202423488\n",
      "[[1 1 0 0 1 0 0 1 0 0 1 0 1 0 0 0 0 0 1]\n",
      " [1 0 1 0 0 0 1 0 0 0 0 1 0 0 1 0 1 1 1]\n",
      " [0 1 0 0 1 0 0 0 1 1 0 0 0 1 1 0 1 0 1]\n",
      " [0 1 0 1 0 0 1 0 0 0 1 0 1 0 1 0 0 1 0]\n",
      " [0 0 0 1 1 1 1 0 1 0 0 1 0 0 0 1 1 1 1]\n",
      " [1 0 1 1 1 0 0 0 0 0 1 0 1 0 1 0 0 0 0]\n",
      " [1 1 1 0 1 0 0 0 0 1 1 0 0 0 1 0 1 1 1]\n",
      " [1 1 1 0 1 0 1 0 0 1 1 0 0 1 1 0 1 0 0]\n",
      " [1 0 0 0 0 1 1 1 1 0 0 0 0 1 0 0 1 1 1]\n",
      " [1 1 1 1 0 1 1 0 0 0 1 1 0 0 1 0 1 0 0]]\n",
      "2\n",
      "4.306506202423488\n",
      "[[1 1 0 0 1 1 0 1 0 0 1 0 1 0 0 0 1 1 1]\n",
      " [1 0 1 1 0 0 1 0 0 0 0 1 0 0 1 0 1 1 1]\n",
      " [1 1 0 0 1 0 1 0 1 1 1 0 0 1 1 1 1 1 1]\n",
      " [0 1 0 0 1 0 0 1 1 0 1 0 1 0 1 0 0 1 0]\n",
      " [0 0 0 0 0 0 1 0 1 0 0 0 0 0 0 1 1 1 1]\n",
      " [1 0 0 1 1 1 0 1 1 1 1 0 1 0 1 0 1 0 1]\n",
      " [1 1 1 0 1 0 0 0 0 0 1 0 0 0 0 0 1 1 1]\n",
      " [1 0 1 1 0 1 0 0 0 1 1 0 0 1 1 0 1 0 1]\n",
      " [1 0 0 0 0 1 1 1 1 0 0 0 1 1 0 0 1 0 1]\n",
      " [1 1 0 1 0 1 1 0 0 0 0 1 0 0 1 1 1 0 0]]\n",
      "3\n",
      "4.306506202423488\n",
      "[[1 0 0 0 0 0 0 1 0 1 1 0 1 0 0 0 1 1 0]\n",
      " [1 0 1 1 1 0 1 1 0 1 0 1 0 0 1 0 1 0 1]\n",
      " [1 1 0 0 1 0 1 0 1 1 1 1 1 1 1 1 1 1 1]\n",
      " [0 0 1 0 0 1 1 0 1 0 0 0 1 0 1 0 0 1 0]\n",
      " [0 0 0 1 0 0 1 1 1 0 0 0 0 0 0 1 1 1 1]\n",
      " [0 0 0 1 0 1 1 0 1 0 1 0 1 0 1 0 1 0 1]\n",
      " [1 1 0 0 1 0 0 0 0 0 1 0 0 0 0 0 1 1 1]\n",
      " [1 0 1 1 0 1 0 1 0 1 1 0 0 1 1 0 1 0 0]\n",
      " [1 0 1 0 0 1 0 1 1 0 0 0 1 1 0 0 0 0 1]\n",
      " [1 0 0 1 0 1 1 0 0 0 1 0 1 1 0 1 1 1 0]]\n",
      "4\n",
      "4.306506202423488\n",
      "[[1 0 0 1 1 1 1 1 0 1 1 0 1 1 0 0 1 1 0]\n",
      " [1 0 1 1 1 0 1 1 0 1 0 1 0 1 1 1 1 0 1]\n",
      " [0 1 0 0 1 1 0 0 1 1 0 1 1 1 1 1 1 1 1]\n",
      " [0 0 1 1 0 0 1 1 1 0 0 1 1 0 1 0 0 1 1]\n",
      " [0 0 0 1 0 0 1 1 1 0 0 0 0 0 0 1 1 1 0]\n",
      " [0 0 1 0 0 1 1 0 1 0 1 0 1 0 1 1 1 0 1]\n",
      " [0 1 1 0 1 0 0 0 0 0 1 0 0 0 0 0 1 0 1]\n",
      " [1 0 0 1 0 1 0 1 0 1 0 1 0 1 1 1 1 0 0]\n",
      " [1 0 1 0 0 0 1 1 1 0 0 1 0 1 1 0 1 0 1]\n",
      " [1 0 1 0 0 1 1 0 0 1 1 0 1 1 1 1 1 0 0]]\n",
      "5\n",
      "4.306506202423488\n",
      "[[0 0 1 1 1 1 1 1 0 1 1 0 1 1 0 0 1 1 0]\n",
      " [0 0 1 1 1 0 1 1 0 1 1 1 1 1 1 1 1 1 1]\n",
      " [1 1 0 0 0 0 1 0 0 1 0 1 0 1 1 1 1 1 1]\n",
      " [0 0 0 1 1 1 1 1 1 0 0 1 1 0 1 0 0 1 1]\n",
      " [0 1 0 1 1 0 1 1 1 1 0 0 0 0 0 1 1 1 1]\n",
      " [0 0 1 1 0 1 0 0 1 1 1 0 1 0 1 1 1 0 1]\n",
      " [0 1 0 1 1 1 0 0 0 0 0 1 0 0 1 1 1 0 1]\n",
      " [1 0 0 1 0 0 0 1 0 1 1 1 0 0 1 1 1 0 0]\n",
      " [1 0 1 0 0 0 1 0 1 0 0 1 1 1 1 1 1 0 1]\n",
      " [1 0 0 0 0 1 1 0 1 1 1 0 0 1 1 1 1 0 0]]\n",
      "6\n",
      "4.306506202423488\n",
      "[[0 1 1 1 1 1 1 1 1 1 0 1 1 0 0 0 1 1 0]\n",
      " [0 1 1 1 1 0 0 1 0 1 1 1 1 0 0 1 1 0 1]\n",
      " [1 1 0 0 0 0 1 0 1 1 0 0 0 1 0 1 1 1 1]\n",
      " [0 0 1 1 1 1 1 1 1 0 0 1 1 0 1 0 0 1 1]\n",
      " [0 0 1 1 1 0 1 1 1 1 0 0 0 0 0 1 1 1 1]\n",
      " [0 0 1 1 0 1 1 0 0 1 1 0 1 1 1 1 0 0 1]\n",
      " [0 1 1 1 0 1 0 0 0 0 0 1 0 1 0 1 0 0 1]\n",
      " [1 0 1 0 0 0 0 0 0 1 1 1 0 1 1 1 1 0 1]\n",
      " [1 0 0 1 0 1 1 0 1 0 0 1 0 1 1 1 1 0 1]\n",
      " [1 0 0 0 0 0 1 0 1 0 1 0 0 1 1 0 1 1 0]]\n",
      "7\n",
      "4.306506202423488\n",
      "[[0 1 1 1 1 1 1 1 1 1 0 1 1 1 0 0 1 1 0]\n",
      " [0 1 1 0 1 1 0 1 0 0 0 1 1 0 1 1 1 0 0]\n",
      " [0 1 0 0 0 0 0 0 1 1 0 0 0 1 0 1 1 1 1]\n",
      " [1 0 1 1 1 0 1 0 1 1 0 1 1 0 1 0 0 1 1]\n",
      " [0 0 1 0 1 0 1 0 1 1 0 0 1 0 1 1 1 0 1]\n",
      " [0 0 1 0 0 1 0 0 0 1 1 0 1 1 1 1 0 0 1]\n",
      " [1 1 0 1 1 1 0 1 1 1 0 1 0 1 0 0 0 0 1]\n",
      " [0 0 1 0 1 1 0 0 0 1 1 1 0 1 1 1 1 1 0]\n",
      " [1 0 0 1 0 1 1 0 1 0 0 1 0 0 1 1 1 0 1]\n",
      " [0 1 1 0 0 0 1 0 1 0 1 1 0 1 1 1 1 1 0]]\n",
      "8\n",
      "4.306506202423488\n",
      "[[0 1 1 1 1 1 0 1 1 1 0 1 0 0 0 1 1 1 0]\n",
      " [0 1 0 0 1 0 0 1 0 0 0 1 1 0 0 1 1 0 0]\n",
      " [0 1 0 0 0 1 0 0 0 1 0 1 1 0 0 1 1 0 1]\n",
      " [1 0 1 0 0 0 1 0 1 1 0 1 1 1 1 0 0 1 0]\n",
      " [1 0 1 1 1 0 1 1 0 1 0 0 1 0 1 1 1 0 1]\n",
      " [0 1 1 0 0 1 0 0 0 1 1 1 1 0 1 1 0 0 1]\n",
      " [0 1 0 1 1 1 0 1 1 1 0 1 1 1 0 0 0 0 0]\n",
      " [0 0 1 0 1 1 0 0 0 1 1 1 0 1 0 0 0 1 0]\n",
      " [0 0 1 1 0 1 1 1 1 0 1 1 0 0 1 0 1 0 1]\n",
      " [0 1 1 1 0 0 0 0 1 0 1 1 0 1 0 1 1 1 0]]\n",
      "9\n",
      "4.306506202423488\n",
      "[[0 1 1 1 1 1 0 1 1 1 0 1 0 0 0 1 1 1 1]\n",
      " [1 1 0 0 1 0 0 1 0 0 1 1 0 1 1 1 1 1 0]\n",
      " [0 1 1 0 0 1 0 1 0 1 0 1 1 0 0 1 1 0 1]\n",
      " [0 0 1 0 1 1 1 0 1 1 0 1 0 1 1 0 0 0 0]\n",
      " [1 0 1 1 1 0 0 1 0 1 0 0 1 1 1 1 0 0 1]\n",
      " [1 1 1 1 0 1 0 0 0 0 1 1 1 0 1 0 0 0 1]\n",
      " [0 0 0 1 1 0 0 1 0 1 0 1 1 1 0 1 1 0 0]\n",
      " [0 0 1 1 1 0 0 0 0 1 1 1 0 0 1 0 0 1 0]\n",
      " [0 0 1 0 1 1 1 1 1 0 1 1 0 0 1 0 1 1 1]\n",
      " [0 1 0 1 1 0 0 0 1 1 1 1 0 1 1 0 1 1 0]]\n"
     ]
    }
   ],
   "source": [
    "bounds = [[0, np.pi / 3], [np.pi / 6, np.pi / 3]]\n",
    "max_iters = 10\n",
    "decimal = 0.001\n",
    "lengthEncode  = getEncodedLength(bounds, decimal)\n",
    "chromosomesEncoded = getIntialPopulation(lengthEncode )  # 编码后的染色体组\n",
    "chromosomesDecoded = decodedChromosome(bounds, lengthEncode , chromosomes)  # 解码后的染色体组\n",
    "for i in range(max_iters):\n",
    "    print(i)\n",
    "    fitness_value, enter_prob = getFitnessValue(fitness_func, chromosomesDecoded)  # 获得适应度值及其入选概率\n",
    "    print(fitnees_value.max())\n",
    "    newpopulation = selectNewPopulation(chromosomesEncoded, enter_prob)  # 选择\n",
    "    crossoverpopulation = crossover(newpopulation)  # 交叉\n",
    "    mutationpopulation = mutation(chromosomesEncoded)  # 变异\n",
    "    chromosomesEncoded = copy.deepcopy(mutationpopulation)  # 将进化后的群体重新设置为待进化群体 以方便下一轮迭代\n",
    "    chromosomesDecoded = decodedChromosome(bounds=bounds, encodelength=lengthEncode, chromosomes=mutationpopulation)"
   ]
  },
  {
   "cell_type": "code",
   "execution_count": 380,
   "metadata": {},
   "outputs": [
    {
     "data": {
      "text/plain": [
       "array([[0.36237335, 0.96522514],\n",
       "       [0.38796468, 0.8771048 ],\n",
       "       [0.85782165, 0.79923101],\n",
       "       [0.90695702, 0.96112652],\n",
       "       [0.50056657, 1.02260583],\n",
       "       [0.74521976, 0.89247463],\n",
       "       [0.59883731, 0.85866101],\n",
       "       [0.09622343, 0.92014031],\n",
       "       [0.21906185, 0.93858411],\n",
       "       [0.80970993, 0.69164222]])"
      ]
     },
     "execution_count": 380,
     "metadata": {},
     "output_type": "execute_result"
    }
   ],
   "source": [
    "final_decoded"
   ]
  },
  {
   "cell_type": "code",
   "execution_count": 343,
   "metadata": {},
   "outputs": [],
   "source": [
    "# 新种群交叉\n",
    "def crossover(population, crossprob=0.8):\n",
    "    \"\"\"\n",
    "    @population: <np.array> 选择后的新种群（解码后）\n",
    "    @crossprob<np.flaot32>: 交叉概率默认是0.8\n",
    "    @return: 交叉后得到的新种群\n",
    "    \"\"\"\n",
    "    # 根据交叉概率计算需要进行交叉的个体个数\n",
    "    m, n = population.shape\n",
    "    numbers = np.uint8(m * crossprob)\n",
    "    # 确保进行交叉的染色体个数是偶数个\n",
    "    if numbers % 2 != 0:\n",
    "        numbers += 1\n",
    "    # 交叉后得到的新种群\n",
    "    updatepopulation = np.zeros((m, n), dtype=np.float32)\n",
    "    # 产生随机索引\n",
    "    index = random.sample(range(m), numbers)\n",
    "    # 不进行交叉的染色体进行复制\n",
    "    for i in range(m):\n",
    "        if not index.__contains__(i):\n",
    "            updatepopulation[i, :] = population[i, :]\n",
    "    # crossover\n",
    "    while len(index) > 0:\n",
    "        a = index.pop()\n",
    "        b = index.pop()\n",
    "        # 随机产生一个交叉点\n",
    "        crossoverPoint = random.sample(range(1, n), 1)\n",
    "        crossoverPoint = crossoverPoint[0]\n",
    "        # one-single-point crossover\n",
    "        updatepopulation[a, 0:crossoverPoint] = population[a, 0:crossoverPoint]\n",
    "        updatepopulation[a, crossoverPoint:] = population[b, crossoverPoint:]\n",
    "        updatepopulation[b, 0:crossoverPoint] = population[b, 0:crossoverPoint]\n",
    "        updatepopulation[b, crossoverPoint:] = population[a, crossoverPoint:]\n",
    "    return updatepopulation"
   ]
  },
  {
   "cell_type": "code",
   "execution_count": 344,
   "metadata": {},
   "outputs": [
    {
     "data": {
      "text/plain": [
       "array([[0.22418012, 0.96317583],\n",
       "       [0.22418012, 0.61171913],\n",
       "       [0.43710005, 0.61171913],\n",
       "       [0.43710005, 0.61171913],\n",
       "       [0.43710005, 0.61171913],\n",
       "       [0.43710005, 0.61171913],\n",
       "       [0.43710005, 0.61171913],\n",
       "       [0.43710005, 0.61171913],\n",
       "       [0.43710005, 0.96317583],\n",
       "       [0.43710005, 0.61171913]], dtype=float32)"
      ]
     },
     "execution_count": 344,
     "metadata": {},
     "output_type": "execute_result"
    }
   ],
   "source": [
    "crossover(newpopulation)"
   ]
  },
  {
   "cell_type": "code",
   "execution_count": 341,
   "metadata": {},
   "outputs": [],
   "source": [
    "crossprob = 0.8\n",
    "m, n = newpopulation.shape\n",
    "numbers = np.uint8(m * crossprob)\n",
    "# 确保进行交叉的染色体个数是偶数个\n",
    "if numbers % 2 != 0:\n",
    "    numbers += 1\n",
    "# 交叉后得到的新种群\n",
    "updatepopulation = np.zeros((m, n), dtype=np.float32)\n",
    "# 产生随机索引\n",
    "index = random.sample(range(m), numbers)"
   ]
  },
  {
   "cell_type": "code",
   "execution_count": 342,
   "metadata": {},
   "outputs": [
    {
     "data": {
      "text/plain": [
       "array([[0., 0.],\n",
       "       [0., 0.],\n",
       "       [0., 0.],\n",
       "       [0., 0.],\n",
       "       [0., 0.],\n",
       "       [0., 0.],\n",
       "       [0., 0.],\n",
       "       [0., 0.],\n",
       "       [0., 0.],\n",
       "       [0., 0.]], dtype=float32)"
      ]
     },
     "execution_count": 342,
     "metadata": {},
     "output_type": "execute_result"
    }
   ],
   "source": [
    "updatepopulation"
   ]
  },
  {
   "cell_type": "code",
   "execution_count": 340,
   "metadata": {},
   "outputs": [
    {
     "data": {
      "text/plain": [
       "array([10.,  2.], dtype=float32)"
      ]
     },
     "execution_count": 340,
     "metadata": {},
     "output_type": "execute_result"
    }
   ],
   "source": [
    "np.float32((m, n), dtype=np.float32)"
   ]
  },
  {
   "cell_type": "code",
   "execution_count": 267,
   "metadata": {},
   "outputs": [],
   "source": [
    "fitnees_value = fitness_func(chromosomesEncoded)  # 适应度值\n",
    "fitnees_value_exp = np.exp(fitnees_value)\n",
    "cum_probability = fitnees_value_exp / fitnees_value_exp.sum()\n",
    "m, n = chromosomesEncoded.shape\n",
    "newpopulation = np.zeros((m, n), dtype=np.float32)\n",
    "randoms = np.random.uniform(cum_probability.min(), cum_probability.max(), m)"
   ]
  },
  {
   "cell_type": "code",
   "execution_count": 268,
   "metadata": {},
   "outputs": [],
   "source": [
    "for i, randoma in enumerate(randoms):\n",
    "    logical = cum_probability >= randoma\n",
    "    index = np.where(logical == 1)\n",
    "    # index是tuple,tuple中元素是ndarray\n",
    "    newpopulation[i, :] = chromosomesEncoded[index[0][0], :]"
   ]
  },
  {
   "cell_type": "code",
   "execution_count": 270,
   "metadata": {},
   "outputs": [
    {
     "data": {
      "text/plain": [
       "array([[0.41969794, 0.5963493 ],\n",
       "       [0.41969794, 0.5963493 ],\n",
       "       [0.43914735, 0.6731984 ],\n",
       "       [0.41969794, 0.5963493 ],\n",
       "       [0.43914735, 0.6731984 ],\n",
       "       [0.41969794, 0.5963493 ],\n",
       "       [0.43914735, 0.6731984 ],\n",
       "       [0.41969794, 0.5963493 ],\n",
       "       [0.43914735, 0.6731984 ],\n",
       "       [0.493401  , 0.9406334 ]], dtype=float32)"
      ]
     },
     "execution_count": 270,
     "metadata": {},
     "output_type": "execute_result"
    }
   ],
   "source": [
    "newpopulation"
   ]
  },
  {
   "cell_type": "code",
   "execution_count": 271,
   "metadata": {},
   "outputs": [
    {
     "data": {
      "text/plain": [
       "array([[0.77797668, 0.86480894],\n",
       "       [0.81994647, 0.5574124 ],\n",
       "       [0.63057057, 0.63221222],\n",
       "       [0.93254836, 0.84534049],\n",
       "       [0.52513426, 0.80332963],\n",
       "       [1.00318045, 0.89349928],\n",
       "       [0.493401  , 0.94063342],\n",
       "       [0.43914736, 0.67319843],\n",
       "       [0.79026052, 0.89862256],\n",
       "       [0.41969794, 0.59634929]])"
      ]
     },
     "execution_count": 271,
     "metadata": {},
     "output_type": "execute_result"
    }
   ],
   "source": [
    "chromosomesEncoded"
   ]
  },
  {
   "cell_type": "code",
   "execution_count": 190,
   "metadata": {},
   "outputs": [],
   "source": [
    "newpopulation[i, :] = copy.deepcopy(chromosomesEncoded[index[0][0], :])"
   ]
  },
  {
   "cell_type": "code",
   "execution_count": 269,
   "metadata": {},
   "outputs": [
    {
     "data": {
      "text/plain": [
       "array([[0.41969794, 0.5963493 ],\n",
       "       [0.41969794, 0.5963493 ],\n",
       "       [0.43914735, 0.6731984 ],\n",
       "       [0.41969794, 0.5963493 ],\n",
       "       [0.43914735, 0.6731984 ],\n",
       "       [0.41969794, 0.5963493 ],\n",
       "       [0.43914735, 0.6731984 ],\n",
       "       [0.41969794, 0.5963493 ],\n",
       "       [0.43914735, 0.6731984 ],\n",
       "       [0.493401  , 0.9406334 ]], dtype=float32)"
      ]
     },
     "execution_count": 269,
     "metadata": {},
     "output_type": "execute_result"
    }
   ],
   "source": [
    "newpopulation"
   ]
  },
  {
   "cell_type": "code",
   "execution_count": 265,
   "metadata": {},
   "outputs": [],
   "source": [
    "newpopulation[2, :] = np.array([99.3,9.9])"
   ]
  },
  {
   "cell_type": "code",
   "execution_count": 242,
   "metadata": {},
   "outputs": [
    {
     "data": {
      "text/plain": [
       "array([0.41969794, 0.59634929])"
      ]
     },
     "execution_count": 242,
     "metadata": {},
     "output_type": "execute_result"
    }
   ],
   "source": [
    "chromosomesEncoded[index[0][0], :]"
   ]
  },
  {
   "cell_type": "code",
   "execution_count": 266,
   "metadata": {},
   "outputs": [
    {
     "data": {
      "text/plain": [
       "array([[ 0. ,  0. ],\n",
       "       [ 0. ,  0. ],\n",
       "       [99.3,  9.9],\n",
       "       [ 0. ,  0. ],\n",
       "       [ 0. ,  0. ],\n",
       "       [ 0. ,  0. ],\n",
       "       [ 0. ,  0. ],\n",
       "       [ 0. ,  0. ],\n",
       "       [ 0. ,  0. ],\n",
       "       [ 0. ,  0. ]], dtype=float32)"
      ]
     },
     "execution_count": 266,
     "metadata": {},
     "output_type": "execute_result"
    }
   ],
   "source": [
    "newpopulation"
   ]
  },
  {
   "cell_type": "code",
   "execution_count": 249,
   "metadata": {},
   "outputs": [
    {
     "data": {
      "text/plain": [
       "array([0.41969794, 0.59634929])"
      ]
     },
     "execution_count": 249,
     "metadata": {},
     "output_type": "execute_result"
    }
   ],
   "source": [
    "new"
   ]
  },
  {
   "cell_type": "code",
   "execution_count": 173,
   "metadata": {},
   "outputs": [
    {
     "name": "stdout",
     "output_type": "stream",
     "text": [
      "[[1 2]\n",
      " [3 4]]\n",
      "[[111 222]\n",
      " [  3   4]]\n"
     ]
    }
   ],
   "source": [
    "a = np.array([[1,2], [3,4]],dtype=np.uint8)\n",
    "print(a)\n",
    "a[0] = np.array([111,222])\n",
    "print(a)"
   ]
  },
  {
   "cell_type": "code",
   "execution_count": 36,
   "metadata": {},
   "outputs": [
    {
     "data": {
      "text/plain": [
       "(10, 19)"
      ]
     },
     "execution_count": 36,
     "metadata": {},
     "output_type": "execute_result"
    }
   ],
   "source": [
    "    # 新种群选择\n",
    "    def selectNewPopulation(self, chromosomes, cum_probability):\n",
    "        m, n = chromosomes.shape\n",
    "        newpopulation = np.zeros((m, n), dtype=np.uint8)\n",
    "        # 随机产生M个概率值\n",
    "        randoms = np.random.rand(m)\n",
    "        for i, randoma in enumerate(randoms):\n",
    "            logical = cum_probability >= randoma\n",
    "            index = np.where(logical == 1)\n",
    "            # index是tuple,tuple中元素是ndarray\n",
    "            newpopulation[i, :] = chromosomes[index[0][0], :]\n",
    "        return newpopulation\n",
    "        pass"
   ]
  },
  {
   "cell_type": "code",
   "execution_count": 13,
   "metadata": {},
   "outputs": [],
   "source": [
    "# initiate population\n",
    "population = []\n",
    "for i in range(10):\n",
    "    entity = ''\n",
    "    for j in range(17):\n",
    "        entity = entity + str(np.random.randint(0, 2))\n",
    "    population.append(entity)"
   ]
  },
  {
   "cell_type": "code",
   "execution_count": 15,
   "metadata": {},
   "outputs": [],
   "source": [
    "np.random.randint??"
   ]
  },
  {
   "cell_type": "code",
   "execution_count": null,
   "metadata": {},
   "outputs": [],
   "source": []
  }
 ],
 "metadata": {
  "hide_input": false,
  "kernelspec": {
   "display_name": "Python 3",
   "language": "python",
   "name": "python3"
  },
  "language_info": {
   "codemirror_mode": {
    "name": "ipython",
    "version": 3
   },
   "file_extension": ".py",
   "mimetype": "text/x-python",
   "name": "python",
   "nbconvert_exporter": "python",
   "pygments_lexer": "ipython3",
   "version": "3.6.5"
  },
  "toc": {
   "base_numbering": 1,
   "nav_menu": {},
   "number_sections": true,
   "sideBar": true,
   "skip_h1_title": false,
   "title_cell": "Table of Contents",
   "title_sidebar": "Contents",
   "toc_cell": false,
   "toc_position": {},
   "toc_section_display": true,
   "toc_window_display": false
  },
  "varInspector": {
   "cols": {
    "lenName": 16,
    "lenType": 16,
    "lenVar": 40
   },
   "kernels_config": {
    "python": {
     "delete_cmd_postfix": "",
     "delete_cmd_prefix": "del ",
     "library": "var_list.py",
     "varRefreshCmd": "print(var_dic_list())"
    },
    "r": {
     "delete_cmd_postfix": ") ",
     "delete_cmd_prefix": "rm(",
     "library": "var_list.r",
     "varRefreshCmd": "cat(var_dic_list()) "
    }
   },
   "types_to_exclude": [
    "module",
    "function",
    "builtin_function_or_method",
    "instance",
    "_Feature"
   ],
   "window_display": false
  }
 },
 "nbformat": 4,
 "nbformat_minor": 2
}
