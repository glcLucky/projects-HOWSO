{
 "cells": [
  {
   "cell_type": "code",
   "execution_count": 1,
   "metadata": {},
   "outputs": [],
   "source": [
    "import numpy as np\n",
    "from scipy.optimize import fsolve, basinhopping\n",
    "import random\n",
    "import timeit"
   ]
  },
  {
   "cell_type": "code",
   "execution_count": 2,
   "metadata": {},
   "outputs": [],
   "source": [
    "from xgboost import XGBClassifier"
   ]
  },
  {
   "cell_type": "code",
   "execution_count": 3,
   "metadata": {},
   "outputs": [],
   "source": [
    "XGBClassifier??"
   ]
  },
  {
   "cell_type": "code",
   "execution_count": 12,
   "metadata": {},
   "outputs": [
    {
     "data": {
      "image/png": "[encoded data removed]",
      "text/plain": [
       "<Figure size 432x288 with 1 Axes>"
      ]
     },
     "metadata": {},
     "output_type": "display_data"
    }
   ],
   "source": [
    "from datetime import datetime, timedelta\n",
    "from matplotlib.patches import Rectangle\n",
    "import matplotlib.pyplot as plt\n",
    "import matplotlib.dates as mdates\n",
    "\n",
    "# Create new plot\n",
    "fig = plt.figure()\n",
    "ax = fig.add_subplot(111)\n",
    "\n",
    "# Create rectangle x coordinates\n",
    "# startTime = datetime.now()\n",
    "# endTime = startTime + timedelta(seconds = 1)\n",
    "\n",
    "# convert to matplotlib date representation\n",
    "start = mdates.date2num(startTime)\n",
    "end = mdates.date2num(endTime)\n",
    "width = end - start\n",
    "\n",
    "# Plot rectangle\n",
    "rect = Rectangle((1, 0), 3, 1, color='yellow')\n",
    "ax.add_patch(rect)   \n",
    "\n",
    "# assign date locator / formatter to the x-axis to get proper labels\n",
    "locator = mdates.AutoDateLocator(minticks=3)\n",
    "formatter = mdates.AutoDateFormatter(locator)\n",
    "ax.xaxis.set_major_locator(locator)\n",
    "ax.xaxis.set_major_formatter(formatter)\n",
    "\n",
    "# set the limits\n",
    "plt.xlim([start-width, end+width])\n",
    "plt.ylim([-.5, 1.5])\n",
    "\n",
    "# go\n",
    "plt.show()"
   ]
  },
  {
   "cell_type": "code",
   "execution_count": 20,
   "metadata": {},
   "outputs": [
    {
     "data": {
      "image/png": "[encoded data removed]",
      "text/plain": [
       "<Figure size 432x288 with 1 Axes>"
      ]
     },
     "metadata": {},
     "output_type": "display_data"
    }
   ],
   "source": [
    "import matplotlib.pyplot as plt\n",
    "from matplotlib.patches import Rectangle\n",
    "someX, someY = 2 ,4\n",
    "width = 3\n",
    "height = 1\n",
    "currentAxis = plt.gca()\n",
    "currentAxis.add_patch(Rectangle((someX - .5, someY - .5), width, height, facecolor=\"grey\"))\n",
    "# set the limits\n",
    "plt.xlim([someX, someX+width])\n",
    "plt.ylim([someY, someY + height])\n",
    "plt.show()"
   ]
  },
  {
   "cell_type": "code",
   "execution_count": 15,
   "metadata": {},
   "outputs": [
    {
     "data": {
      "text/plain": [
       "736931.4239054822"
      ]
     },
     "execution_count": 15,
     "metadata": {},
     "output_type": "execute_result"
    }
   ],
   "source": [
    "end+width"
   ]
  },
  {
   "cell_type": "code",
   "execution_count": null,
   "metadata": {},
   "outputs": [],
   "source": [
    "def main(max_iter=500):\n",
    "    # 每次迭代得到的最优解\n",
    "    optimalSolutions = []\n",
    "    optimalValues = []\n",
    "    # 决策变量的取值范围\n",
    "    decisionVariables = [[-3.0, 12.1], [4.1, 5.8]]\n",
    "    # 得到染色体编码长度\n",
    "    lengthEncode = getEncodedLength(boundarylist=decisionVariables)\n",
    "    for iteration in range(max_iter):\n",
    "        # 得到初始种群编码\n",
    "        chromosomesEncoded = getIntialPopulation(lengthEncode, 10)\n",
    "        # 种群解码\n",
    "        decoded = decodedChromosome(lengthEncode, chromosomesEncoded, decisionVariables)\n",
    "        # 得到个体适应度值和个体的累积概率\n",
    "        evalvalues, cum_proba = getFitnessValue(fitnessFunction(), decoded)\n",
    "        # 选择新的种群\n",
    "        newpopulations = selectNewPopulation(chromosomesEncoded, cum_proba)\n",
    "        # 进行交叉操作\n",
    "        crossoverpopulation = crossover(newpopulations)\n",
    "        # mutation\n",
    "        mutationpopulation = mutation(crossoverpopulation)\n",
    "        # 将变异后的种群解码，得到每轮迭代最终的种群\n",
    "        final_decoded = decodedChromosome(lengthEncode, mutationpopulation, decisionVariables)\n",
    "        # 适应度评价\n",
    "        fitnessvalues, cum_individual_proba = getFitnessValue(fitnessFunction(), final_decoded)\n",
    "        # 搜索每次迭代的最优解，以及最优解对应的目标函数的取值\n",
    "        optimalValues.append(np.max(list(fitnessvalues)))\n",
    "        index = np.where(fitnessvalues == max(list(fitnessvalues)))\n",
    "        optimalSolutions.append(final_decoded[index[0][0], :])\n",
    "    # 搜索最优解\n",
    "    optimalValue = np.max(optimalValues)\n",
    "    optimalIndex = np.where(optimalValues == optimalValue)\n",
    "    optimalSolution = optimalSolutions[optimalIndex[0][0]]\n",
    "    return optimalSolution, optimalValue\n",
    " "
   ]
  },
  {
   "cell_type": "code",
   "execution_count": 3,
   "metadata": {},
   "outputs": [],
   "source": [
    "# 每次迭代得到的最优解\n",
    "optimalSolutions = []\n",
    "optimalValues = []\n",
    "# 决策变量的取值范围\n",
    "decisionVariables = [[-3.0, 12.1], [4.1, 5.8]]\n",
    "# 得到染色体编码长度\n",
    "lengthEncode = getEncodedLength(boundarylist=decisionVariables)"
   ]
  },
  {
   "cell_type": "code",
   "execution_count": 4,
   "metadata": {},
   "outputs": [
    {
     "data": {
      "text/plain": [
       "[17, 14]"
      ]
     },
     "execution_count": 4,
     "metadata": {},
     "output_type": "execute_result"
    }
   ],
   "source": [
    "lengthEncode"
   ]
  },
  {
   "cell_type": "code",
   "execution_count": 2,
   "metadata": {},
   "outputs": [],
   "source": [
    "# 简单实现SGA算法\n",
    "import numpy as np\n",
    "from scipy.optimize import fsolve, basinhopping\n",
    "import random\n",
    "import timeit\n",
    " \n",
    " \n",
    "# 根据解的精度确定染色体(chromosome)的长度\n",
    "# 需要根据决策变量的上下边界来确定\n",
    "def getEncodedLength(delta=0.0001, boundarylist=[]):\n",
    "    \"\"\"\n",
    "    获取每个待优化变量的编码长度\n",
    "    @delta: <flo>: 精度 默认为0.0001\n",
    "    @boundarylist: <list>: 待优化变量的取值范围 比如[[-3.0, 12.1], [4.1, 5.8]] 表示第一个变量的取值范围为-3 -- 12.1\n",
    "    \"\"\"\n",
    "    # 每个变量的编码长度\n",
    "    lengths = []\n",
    "    for i in boundarylist:\n",
    "        lower = i[0]\n",
    "        upper = i[1]\n",
    "        # lamnda 代表匿名函数f(x)=0,50代表搜索的初始解\n",
    "        res = fsolve(lambda x: ((upper - lower) * 1 / delta) - 2 ** x - 1, 50)\n",
    "        length = int(np.floor(res[0]))\n",
    "        lengths.append(length)\n",
    "    return lengths\n",
    "    pass\n",
    " \n",
    " \n",
    "# 随机生成初始编码种群\n",
    "def getIntialPopulation(encodelength, populationSize):\n",
    "    # 随机化初始种群为0\n",
    "    chromosomes = np.zeros((populationSize, sum(encodelength)), dtype=np.uint8)\n",
    "    for i in range(populationSize):\n",
    "        chromosomes[i, :] = np.random.randint(0, 2, sum(encodelength))\n",
    "    # print('chromosomes shape:', chromosomes.shape)\n",
    "    return chromosomes\n",
    " \n",
    " \n",
    "# 染色体解码得到表现型的解\n",
    "def decodedChromosome(encodelength, chromosomes, boundarylist, delta=0.0001):\n",
    "    populations = chromosomes.shape[0]\n",
    "    variables = len(encodelength)\n",
    "    decodedvalues = np.zeros((populations, variables))\n",
    "    for k, chromosome in enumerate(chromosomes):\n",
    "        chromosome = chromosome.tolist()\n",
    "        start = 0\n",
    "        for index, length in enumerate(encodelength):\n",
    "            # 将一个染色体进行拆分，得到染色体片段\n",
    "            power = length - 1\n",
    "            # 解码得到的10进制数字\n",
    "            demical = 0\n",
    "            for i in range(start, length + start):\n",
    "                demical += chromosome[i] * (2 ** power)\n",
    "                power -= 1\n",
    "            lower = boundarylist[index][0]\n",
    "            upper = boundarylist[index][1]\n",
    "            decodedvalue = lower + demical * (upper - lower) / (2 ** length - 1)\n",
    "            decodedvalues[k, index] = decodedvalue\n",
    "            # 开始去下一段染色体的编码\n",
    "            start = length\n",
    "    return decodedvalues\n",
    " \n",
    " \n",
    "# 得到个体的适应度值及每个个体被选择的累积概率\n",
    "def getFitnessValue(func, chromosomesdecoded):\n",
    "    # 得到种群规模和决策变量的个数\n",
    "    population, nums = chromosomesdecoded.shape\n",
    "    # 初始化种群的适应度值为0\n",
    "    fitnessvalues = np.zeros((population, 1))\n",
    "    # 计算适应度值\n",
    "    for i in range(population):\n",
    "        fitnessvalues[i, 0] = func(chromosomesdecoded[i, :])\n",
    "    # 计算每个染色体被选择的概率\n",
    "    probability = fitnessvalues / np.sum(fitnessvalues)\n",
    "    # 得到每个染色体被选中的累积概率\n",
    "    cum_probability = np.cumsum(probability)\n",
    "    return fitnessvalues, cum_probability\n",
    " \n",
    " \n",
    "# 新种群选择\n",
    "def selectNewPopulation(chromosomes, cum_probability):\n",
    "    m, n = chromosomes.shape\n",
    "    newpopulation = np.zeros((m, n), dtype=np.uint8)\n",
    "    # 随机产生M个概率值\n",
    "    randoms = np.random.rand(m)\n",
    "    for i, randoma in enumerate(randoms):\n",
    "        logical = cum_probability >= randoma\n",
    "        index = np.where(logical == 1)\n",
    "        # index是tuple,tuple中元素是ndarray\n",
    "        newpopulation[i, :] = chromosomes[index[0][0], :]\n",
    "    return newpopulation\n",
    "    pass\n",
    " \n",
    " \n",
    "# 新种群交叉\n",
    "def crossover(population, Pc=0.8):\n",
    "    \"\"\"\n",
    "    :param population: 新种群\n",
    "    :param Pc: 交叉概率默认是0.8\n",
    "    :return: 交叉后得到的新种群\n",
    "    \"\"\"\n",
    "    # 根据交叉概率计算需要进行交叉的个体个数\n",
    "    m, n = population.shape\n",
    "    numbers = np.uint8(m * Pc)\n",
    "    # 确保进行交叉的染色体个数是偶数个\n",
    "    if numbers % 2 != 0:\n",
    "        numbers += 1\n",
    "    # 交叉后得到的新种群\n",
    "    updatepopulation = np.zeros((m, n), dtype=np.uint8)\n",
    "    # 产生随机索引\n",
    "    index = random.sample(range(m), numbers)\n",
    "    # 不进行交叉的染色体进行复制\n",
    "    for i in range(m):\n",
    "        if not index.__contains__(i):\n",
    "            updatepopulation[i, :] = population[i, :]\n",
    "    # crossover\n",
    "    while len(index) > 0:\n",
    "        a = index.pop()\n",
    "        b = index.pop()\n",
    "        # 随机产生一个交叉点\n",
    "        crossoverPoint = random.sample(range(1, n), 1)\n",
    "        crossoverPoint = crossoverPoint[0]\n",
    "        # one-single-point crossover\n",
    "        updatepopulation[a, 0:crossoverPoint] = population[a, 0:crossoverPoint]\n",
    "        updatepopulation[a, crossoverPoint:] = population[b, crossoverPoint:]\n",
    "        updatepopulation[b, 0:crossoverPoint] = population[b, 0:crossoverPoint]\n",
    "        updatepopulation[b, crossoverPoint:] = population[a, crossoverPoint:]\n",
    "    return updatepopulation\n",
    "    pass\n",
    " \n",
    " \n",
    "# 染色体变异\n",
    "def mutation(population, Pm=0.01):\n",
    "    \"\"\"\n",
    "    :param population: 经交叉后得到的种群\n",
    "    :param Pm: 变异概率默认是0.01\n",
    "    :return: 经变异操作后的新种群\n",
    "    \"\"\"\n",
    "    updatepopulation = np.copy(population)\n",
    "    m, n = population.shape\n",
    "    # 计算需要变异的基因个数\n",
    "    gene_num = np.uint8(m * n * Pm)\n",
    "    # 将所有的基因按照序号进行10进制编码，则共有m*n个基因\n",
    "    # 随机抽取gene_num个基因进行基本位变异\n",
    "    mutationGeneIndex = random.sample(range(0, m * n), gene_num)\n",
    "    # 确定每个将要变异的基因在整个染色体中的基因座(即基因的具体位置)\n",
    "    for gene in mutationGeneIndex:\n",
    "        # 确定变异基因位于第几个染色体\n",
    "        chromosomeIndex = gene // n\n",
    "        # 确定变异基因位于当前染色体的第几个基因位\n",
    "        geneIndex = gene % n\n",
    "        # mutation\n",
    "        if updatepopulation[chromosomeIndex, geneIndex] == 0:\n",
    "            updatepopulation[chromosomeIndex, geneIndex] = 1\n",
    "        else:\n",
    "            updatepopulation[chromosomeIndex, geneIndex] = 0\n",
    "    return updatepopulation\n",
    "    pass\n",
    " \n",
    " \n",
    "# 定义适应度函数\n",
    "def fitnessFunction():\n",
    "    return lambda x: 21.5 + x[0] * np.sin(4 * np.pi * x[0]) + x[1] * np.sin(20 * np.pi * x[1])\n",
    "    pass\n",
    " \n",
    " \n",
    "def main(max_iter=500):\n",
    "    # 每次迭代得到的最优解\n",
    "    optimalSolutions = []\n",
    "    optimalValues = []\n",
    "    # 决策变量的取值范围\n",
    "    decisionVariables = [[-3.0, 12.1], [4.1, 5.8]]\n",
    "    # 得到染色体编码长度\n",
    "    lengthEncode = getEncodedLength(boundarylist=decisionVariables)\n",
    "    for iteration in range(max_iter):\n",
    "        # 得到初始种群编码\n",
    "        chromosomesEncoded = getIntialPopulation(lengthEncode, 10)\n",
    "        # 种群解码\n",
    "        decoded = decodedChromosome(lengthEncode, chromosomesEncoded, decisionVariables)\n",
    "        # 得到个体适应度值和个体的累积概率\n",
    "        evalvalues, cum_proba = getFitnessValue(fitnessFunction(), decoded)\n",
    "        # 选择新的种群\n",
    "        newpopulations = selectNewPopulation(chromosomesEncoded, cum_proba)\n",
    "        # 进行交叉操作\n",
    "        crossoverpopulation = crossover(newpopulations)\n",
    "        # mutation\n",
    "        mutationpopulation = mutation(crossoverpopulation)\n",
    "        # 将变异后的种群解码，得到每轮迭代最终的种群\n",
    "        final_decoded = decodedChromosome(lengthEncode, mutationpopulation, decisionVariables)\n",
    "        # 适应度评价\n",
    "        fitnessvalues, cum_individual_proba = getFitnessValue(fitnessFunction(), final_decoded)\n",
    "        # 搜索每次迭代的最优解，以及最优解对应的目标函数的取值\n",
    "        optimalValues.append(np.max(list(fitnessvalues)))\n",
    "        index = np.where(fitnessvalues == max(list(fitnessvalues)))\n",
    "        optimalSolutions.append(final_decoded[index[0][0], :])\n",
    "    # 搜索最优解\n",
    "    optimalValue = np.max(optimalValues)\n",
    "    optimalIndex = np.where(optimalValues == optimalValue)\n",
    "    optimalSolution = optimalSolutions[optimalIndex[0][0]]\n",
    "    return optimalSolution, optimalValue\n",
    " \n",
    " \n",
    "# solution, value = main()\n",
    "# print('最优解: x1, x2')\n",
    "# print(solution[0], solution[1])\n",
    "# print('最优目标函数值:', value)\n",
    "# # 测量运行时间\n",
    "# elapsedtime = timeit.timeit(stmt=main, number=1)\n",
    "# print('Searching Time Elapsed:(S)', elapsedtime)\n",
    " \n",
    " "
   ]
  },
  {
   "cell_type": "code",
   "execution_count": null,
   "metadata": {},
   "outputs": [],
   "source": []
  }
 ],
 "metadata": {
  "hide_input": false,
  "kernelspec": {
   "display_name": "Python 3",
   "language": "python",
   "name": "python3"
  },
  "language_info": {
   "codemirror_mode": {
    "name": "ipython",
    "version": 3
   },
   "file_extension": ".py",
   "mimetype": "text/x-python",
   "name": "python",
   "nbconvert_exporter": "python",
   "pygments_lexer": "ipython3",
   "version": "3.6.5"
  },
  "toc": {
   "base_numbering": 1,
   "nav_menu": {},
   "number_sections": true,
   "sideBar": true,
   "skip_h1_title": false,
   "title_cell": "Table of Contents",
   "title_sidebar": "Contents",
   "toc_cell": false,
   "toc_position": {},
   "toc_section_display": true,
   "toc_window_display": false
  },
  "varInspector": {
   "cols": {
    "lenName": 16,
    "lenType": 16,
    "lenVar": 40
   },
   "kernels_config": {
    "python": {
     "delete_cmd_postfix": "",
     "delete_cmd_prefix": "del ",
     "library": "var_list.py",
     "varRefreshCmd": "print(var_dic_list())"
    },
    "r": {
     "delete_cmd_postfix": ") ",
     "delete_cmd_prefix": "rm(",
     "library": "var_list.r",
     "varRefreshCmd": "cat(var_dic_list()) "
    }
   },
   "types_to_exclude": [
    "module",
    "function",
    "builtin_function_or_method",
    "instance",
    "_Feature"
   ],
   "window_display": false
  }
 },
 "nbformat": 4,
 "nbformat_minor": 2
}
